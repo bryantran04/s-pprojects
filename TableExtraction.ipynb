{
 "cells": [
  {
   "cell_type": "code",
   "execution_count": 7,
   "metadata": {},
   "outputs": [
    {
     "data": {
      "text/html": [
       "<div>\n",
       "<style scoped>\n",
       "    .dataframe tbody tr th:only-of-type {\n",
       "        vertical-align: middle;\n",
       "    }\n",
       "\n",
       "    .dataframe tbody tr th {\n",
       "        vertical-align: top;\n",
       "    }\n",
       "\n",
       "    .dataframe thead th {\n",
       "        text-align: right;\n",
       "    }\n",
       "</style>\n",
       "<table border=\"1\" class=\"dataframe\">\n",
       "  <thead>\n",
       "    <tr style=\"text-align: right;\">\n",
       "      <th></th>\n",
       "      <th>KeyFile</th>\n",
       "      <th>TableFormOrder</th>\n",
       "      <th>relativeIndex</th>\n",
       "    </tr>\n",
       "  </thead>\n",
       "  <tbody>\n",
       "    <tr>\n",
       "      <th>0</th>\n",
       "      <td>1733007</td>\n",
       "      <td>1000</td>\n",
       "      <td>0</td>\n",
       "    </tr>\n",
       "    <tr>\n",
       "      <th>1</th>\n",
       "      <td>1733007</td>\n",
       "      <td>2000</td>\n",
       "      <td>1</td>\n",
       "    </tr>\n",
       "    <tr>\n",
       "      <th>2</th>\n",
       "      <td>1733007</td>\n",
       "      <td>3000</td>\n",
       "      <td>2</td>\n",
       "    </tr>\n",
       "    <tr>\n",
       "      <th>3</th>\n",
       "      <td>1733007</td>\n",
       "      <td>4000</td>\n",
       "      <td>3</td>\n",
       "    </tr>\n",
       "    <tr>\n",
       "      <th>4</th>\n",
       "      <td>1733007</td>\n",
       "      <td>5000</td>\n",
       "      <td>4</td>\n",
       "    </tr>\n",
       "  </tbody>\n",
       "</table>\n",
       "</div>"
      ],
      "text/plain": [
       "   KeyFile  TableFormOrder  relativeIndex\n",
       "0  1733007            1000              0\n",
       "1  1733007            2000              1\n",
       "2  1733007            3000              2\n",
       "3  1733007            4000              3\n",
       "4  1733007            5000              4"
      ]
     },
     "execution_count": 7,
     "metadata": {},
     "output_type": "execute_result"
    }
   ],
   "source": [
    "import nltk\n",
    "import pandas as pd\n",
    "import numpy as np\n",
    "import scipy\n",
    "from sklearn.feature_extraction.text import CountVectorizer, TfidfTransformer\n",
    "from sklearn.base import TransformerMixin\n",
    "from sklearn.pipeline import Pipeline\n",
    "from sklearn.svm import LinearSVC\n",
    "from sklearn.feature_extraction.stop_words import ENGLISH_STOP_WORDS\n",
    "from sklearn.metrics import accuracy_score\n",
    "from nltk.corpus import stopwords\n",
    "from sklearn.naive_bayes import MultinomialNB\n",
    "from sklearn import linear_model\n",
    "from sklearn.svm import LinearSVC\n",
    "from sklearn.ensemble import GradientBoostingClassifier, RandomForestClassifier\n",
    "from scipy.sparse import hstack\n",
    "from sklearn.metrics import classification_report\n",
    "from sklearn.model_selection import train_test_split\n",
    "\n",
    "data = pd.read_pickle(\"training_data_pct1.pkl\")\n",
    "relative = data[[\"KeyFile\",\"TableFormOrder\"]].sort_values(['KeyFile', 'TableFormOrder'], ascending=[True, True])\n",
    "relative.reset_index(inplace=True)\n",
    "relative.drop(\"index\", axis=1, inplace=True)\n",
    "relative[\"relativeIndex\"] = '0'\n",
    "\n",
    "currentKeyFile = \"\"\n",
    "currentRelativeIndex = 0\n",
    "for i in range(len(relative)):\n",
    "    if (relative.iloc[i,0] != currentKeyFile):\n",
    "        currentKeyFile = relative.iloc[i,0]\n",
    "        currentRelativeIndex = 0\n",
    "    relative.iloc[i,2] = (currentRelativeIndex)\n",
    "    currentRelativeIndex +=1\n",
    "\n",
    "\n",
    "relative.head()\n"
   ]
  },
  {
   "cell_type": "code",
   "execution_count": 2,
   "metadata": {},
   "outputs": [
    {
     "name": "stderr",
     "output_type": "stream",
     "text": [
      "C:\\Users\\bryan_tran\\AppData\\Local\\Continuum\\anaconda3\\lib\\site-packages\\h5py\\__init__.py:36: FutureWarning: Conversion of the second argument of issubdtype from `float` to `np.floating` is deprecated. In future, it will be treated as `np.float64 == np.dtype(float).type`.\n",
      "  from ._conv import register_converters as _register_converters\n"
     ]
    }
   ],
   "source": [
    "import tensorflow as tf"
   ]
  },
  {
   "cell_type": "code",
   "execution_count": 12,
   "metadata": {},
   "outputs": [],
   "source": [
    "from tensorflow.contrib.learn.python.learn.estimators import DNNClassifier"
   ]
  },
  {
   "cell_type": "code",
   "execution_count": null,
   "metadata": {},
   "outputs": [],
   "source": []
  },
  {
   "cell_type": "code",
   "execution_count": 8,
   "metadata": {},
   "outputs": [
    {
     "data": {
      "text/html": [
       "<div>\n",
       "<style scoped>\n",
       "    .dataframe tbody tr th:only-of-type {\n",
       "        vertical-align: middle;\n",
       "    }\n",
       "\n",
       "    .dataframe tbody tr th {\n",
       "        vertical-align: top;\n",
       "    }\n",
       "\n",
       "    .dataframe thead th {\n",
       "        text-align: right;\n",
       "    }\n",
       "</style>\n",
       "<table border=\"1\" class=\"dataframe\">\n",
       "  <thead>\n",
       "    <tr style=\"text-align: right;\">\n",
       "      <th></th>\n",
       "      <th>KeyFile</th>\n",
       "      <th>KeyExtractedDocumentTable</th>\n",
       "      <th>TableFormOrder</th>\n",
       "      <th>ExtractedDocumentTable</th>\n",
       "      <th>KeyExtractedTableNames</th>\n",
       "      <th>label_name</th>\n",
       "      <th>label</th>\n",
       "      <th>value_text_concat</th>\n",
       "      <th>set</th>\n",
       "    </tr>\n",
       "  </thead>\n",
       "  <tbody>\n",
       "    <tr>\n",
       "      <th>0</th>\n",
       "      <td>24860523</td>\n",
       "      <td>2f03ae0d-3f38-4dd8-8493-0000fe323ef8</td>\n",
       "      <td>6000</td>\n",
       "      <td>consolidated statements of cash flows</td>\n",
       "      <td>3.0</td>\n",
       "      <td>Cash Flow</td>\n",
       "      <td>2.0</td>\n",
       "      <td>cash flows from operating activities: net loss...</td>\n",
       "      <td>train</td>\n",
       "    </tr>\n",
       "    <tr>\n",
       "      <th>1</th>\n",
       "      <td>38184177</td>\n",
       "      <td>43341021-0e8a-4342-8c6b-00017ffc5eb6</td>\n",
       "      <td>23000</td>\n",
       "      <td>consolidated statements of operations</td>\n",
       "      <td>1.0</td>\n",
       "      <td>Income Statement</td>\n",
       "      <td>1.0</td>\n",
       "      <td>revenues: circulation revenues: circulation re...</td>\n",
       "      <td>train</td>\n",
       "    </tr>\n",
       "    <tr>\n",
       "      <th>2</th>\n",
       "      <td>11317061</td>\n",
       "      <td>0bb4cb2a-354a-4e00-a2ba-0005234967ee</td>\n",
       "      <td>33000</td>\n",
       "      <td>impairment of receivables from customers</td>\n",
       "      <td>9999.0</td>\n",
       "      <td>N/A</td>\n",
       "      <td>249.0</td>\n",
       "      <td>real-estate financing real-estate financing co...</td>\n",
       "      <td>train</td>\n",
       "    </tr>\n",
       "    <tr>\n",
       "      <th>3</th>\n",
       "      <td>390786062</td>\n",
       "      <td>d17432ea-913f-40d0-9ae5-00112d837455</td>\n",
       "      <td>1000</td>\n",
       "      <td>capital adequacy</td>\n",
       "      <td>172.0</td>\n",
       "      <td>Capital Adequacy</td>\n",
       "      <td>10.0</td>\n",
       "      <td>credit risk (standardized approach) institutes...</td>\n",
       "      <td>train</td>\n",
       "    </tr>\n",
       "    <tr>\n",
       "      <th>4</th>\n",
       "      <td>35703753</td>\n",
       "      <td>c6e92fa2-0762-47de-a196-000a12cdd61d</td>\n",
       "      <td>4000</td>\n",
       "      <td>asset/liability maturity analysis - of</td>\n",
       "      <td>267.0</td>\n",
       "      <td>Asset/Liability Maturity Analysis - OF</td>\n",
       "      <td>21.0</td>\n",
       "      <td>total assets: 30 days total assets: 60 days to...</td>\n",
       "      <td>train</td>\n",
       "    </tr>\n",
       "  </tbody>\n",
       "</table>\n",
       "</div>"
      ],
      "text/plain": [
       "     KeyFile             KeyExtractedDocumentTable  TableFormOrder  \\\n",
       "0   24860523  2f03ae0d-3f38-4dd8-8493-0000fe323ef8            6000   \n",
       "1   38184177  43341021-0e8a-4342-8c6b-00017ffc5eb6           23000   \n",
       "2   11317061  0bb4cb2a-354a-4e00-a2ba-0005234967ee           33000   \n",
       "3  390786062  d17432ea-913f-40d0-9ae5-00112d837455            1000   \n",
       "4   35703753  c6e92fa2-0762-47de-a196-000a12cdd61d            4000   \n",
       "\n",
       "                     ExtractedDocumentTable  KeyExtractedTableNames  \\\n",
       "0     consolidated statements of cash flows                     3.0   \n",
       "1     consolidated statements of operations                     1.0   \n",
       "2  impairment of receivables from customers                  9999.0   \n",
       "3                          capital adequacy                   172.0   \n",
       "4    asset/liability maturity analysis - of                   267.0   \n",
       "\n",
       "                               label_name  label  \\\n",
       "0                               Cash Flow    2.0   \n",
       "1                        Income Statement    1.0   \n",
       "2                                     N/A  249.0   \n",
       "3                        Capital Adequacy   10.0   \n",
       "4  Asset/Liability Maturity Analysis - OF   21.0   \n",
       "\n",
       "                                   value_text_concat    set  \n",
       "0  cash flows from operating activities: net loss...  train  \n",
       "1  revenues: circulation revenues: circulation re...  train  \n",
       "2  real-estate financing real-estate financing co...  train  \n",
       "3  credit risk (standardized approach) institutes...  train  \n",
       "4  total assets: 30 days total assets: 60 days to...  train  "
      ]
     },
     "execution_count": 8,
     "metadata": {},
     "output_type": "execute_result"
    }
   ],
   "source": [
    "data.head()"
   ]
  },
  {
   "cell_type": "code",
   "execution_count": null,
   "metadata": {},
   "outputs": [],
   "source": []
  },
  {
   "cell_type": "code",
   "execution_count": 13,
   "metadata": {},
   "outputs": [
    {
     "data": {
      "text/html": [
       "<div>\n",
       "<style scoped>\n",
       "    .dataframe tbody tr th:only-of-type {\n",
       "        vertical-align: middle;\n",
       "    }\n",
       "\n",
       "    .dataframe tbody tr th {\n",
       "        vertical-align: top;\n",
       "    }\n",
       "\n",
       "    .dataframe thead th {\n",
       "        text-align: right;\n",
       "    }\n",
       "</style>\n",
       "<table border=\"1\" class=\"dataframe\">\n",
       "  <thead>\n",
       "    <tr style=\"text-align: right;\">\n",
       "      <th></th>\n",
       "      <th>KeyFile</th>\n",
       "      <th>TableFormOrder</th>\n",
       "      <th>relativeIndex</th>\n",
       "    </tr>\n",
       "  </thead>\n",
       "  <tbody>\n",
       "    <tr>\n",
       "      <th>23726</th>\n",
       "      <td>24860523</td>\n",
       "      <td>6000</td>\n",
       "      <td>2</td>\n",
       "    </tr>\n",
       "  </tbody>\n",
       "</table>\n",
       "</div>"
      ],
      "text/plain": [
       "        KeyFile  TableFormOrder  relativeIndex\n",
       "23726  24860523            6000              2"
      ]
     },
     "execution_count": 13,
     "metadata": {},
     "output_type": "execute_result"
    }
   ],
   "source": [
    "relative[(relative[\"KeyFile\"] == 24860523.0) & (relative[\"TableFormOrder\"] == 6000)]"
   ]
  },
  {
   "cell_type": "code",
   "execution_count": 14,
   "metadata": {},
   "outputs": [],
   "source": [
    "from nltk.corpus import stopwords\n",
    "\n",
    "def text_process(mess):\n",
    "\n",
    "    nopunc = [char for char in mess if char not in string.punctuation]\n",
    "\n",
    "    nopunc = ''.join(nopunc)\n",
    "    \n",
    "    return [word for word in nopunc.split() if word.lower() not in stopwords.words('english')]"
   ]
  },
  {
   "cell_type": "code",
   "execution_count": 103,
   "metadata": {},
   "outputs": [
    {
     "name": "stdout",
     "output_type": "stream",
     "text": [
      "Wall time: 1h 36min 22s\n"
     ]
    },
    {
     "name": "stderr",
     "output_type": "stream",
     "text": [
      "C:\\Users\\bryan_tran\\AppData\\Local\\Continuum\\anaconda3\\lib\\site-packages\\ipykernel_launcher.py:1: SettingWithCopyWarning: \n",
      "A value is trying to be set on a copy of a slice from a DataFrame.\n",
      "Try using .loc[row_indexer,col_indexer] = value instead\n",
      "\n",
      "See the caveats in the documentation: http://pandas.pydata.org/pandas-docs/stable/indexing.html#indexing-view-versus-copy\n",
      "  \"\"\"Entry point for launching an IPython kernel.\n"
     ]
    }
   ],
   "source": [
    "# extracted[\"value_text_concat\"] = extracted['value_text_concat'].apply(text_process)\n",
    "\n",
    "# extracted['value_text_concat'] = extracted.apply(lambda x: text_process(x[\"value_text_concat\"]))\n",
    "\n",
    "\n",
    "%time extracted['value_text_concat'] = extracted.apply(lambda x: text_process(x['value_text_concat']), axis = 1)"
   ]
  },
  {
   "cell_type": "code",
   "execution_count": 104,
   "metadata": {},
   "outputs": [
    {
     "name": "stdout",
     "output_type": "stream",
     "text": [
      "Wall time: 1min 28s\n"
     ]
    },
    {
     "name": "stderr",
     "output_type": "stream",
     "text": [
      "C:\\Users\\bryan_tran\\AppData\\Local\\Continuum\\anaconda3\\lib\\site-packages\\ipykernel_launcher.py:1: SettingWithCopyWarning: \n",
      "A value is trying to be set on a copy of a slice from a DataFrame.\n",
      "Try using .loc[row_indexer,col_indexer] = value instead\n",
      "\n",
      "See the caveats in the documentation: http://pandas.pydata.org/pandas-docs/stable/indexing.html#indexing-view-versus-copy\n",
      "  \"\"\"Entry point for launching an IPython kernel.\n"
     ]
    }
   ],
   "source": [
    "%time extracted['ExtractedDocumentTable'] = extracted.apply(lambda x: text_process(x['ExtractedDocumentTable']), axis = 1)"
   ]
  },
  {
   "cell_type": "code",
   "execution_count": null,
   "metadata": {},
   "outputs": [],
   "source": [
    "# \" \".join(extracted[\"value_text_concat\"][0])"
   ]
  },
  {
   "cell_type": "code",
   "execution_count": 124,
   "metadata": {},
   "outputs": [
    {
     "name": "stdout",
     "output_type": "stream",
     "text": [
      "Wall time: 4 s\n"
     ]
    },
    {
     "name": "stderr",
     "output_type": "stream",
     "text": [
      "C:\\Users\\bryan_tran\\AppData\\Local\\Continuum\\anaconda3\\lib\\site-packages\\ipykernel_launcher.py:1: SettingWithCopyWarning: \n",
      "A value is trying to be set on a copy of a slice from a DataFrame.\n",
      "Try using .loc[row_indexer,col_indexer] = value instead\n",
      "\n",
      "See the caveats in the documentation: http://pandas.pydata.org/pandas-docs/stable/indexing.html#indexing-view-versus-copy\n",
      "  \"\"\"Entry point for launching an IPython kernel.\n"
     ]
    }
   ],
   "source": [
    "%time extracted['value_text_concat'] = extracted.apply(lambda x: \" \".join(x[\"value_text_concat\"]), axis = 1)"
   ]
  },
  {
   "cell_type": "code",
   "execution_count": null,
   "metadata": {},
   "outputs": [],
   "source": [
    "%time extracted['ExtractedDocumentTable'] = extracted.apply(lambda x: \" \".join(x[\"ExtractedDocumentTable\"]), axis = 1)"
   ]
  },
  {
   "cell_type": "code",
   "execution_count": 132,
   "metadata": {},
   "outputs": [
    {
     "name": "stdout",
     "output_type": "stream",
     "text": [
      "Wall time: 2.31 s\n"
     ]
    },
    {
     "name": "stderr",
     "output_type": "stream",
     "text": [
      "C:\\Users\\bryan_tran\\AppData\\Local\\Continuum\\anaconda3\\lib\\site-packages\\ipykernel_launcher.py:1: SettingWithCopyWarning: \n",
      "A value is trying to be set on a copy of a slice from a DataFrame.\n",
      "Try using .loc[row_indexer,col_indexer] = value instead\n",
      "\n",
      "See the caveats in the documentation: http://pandas.pydata.org/pandas-docs/stable/indexing.html#indexing-view-versus-copy\n",
      "  \"\"\"Entry point for launching an IPython kernel.\n"
     ]
    }
   ],
   "source": [
    "%time extracted['newText'] = extracted.apply(lambda x: x[\"ExtractedDocumentTable\"]+ \" \"+x[\"value_text_concat\"], axis = 1)"
   ]
  },
  {
   "cell_type": "code",
   "execution_count": 111,
   "metadata": {},
   "outputs": [],
   "source": []
  },
  {
   "cell_type": "code",
   "execution_count": 75,
   "metadata": {},
   "outputs": [],
   "source": []
  },
  {
   "cell_type": "code",
   "execution_count": 15,
   "metadata": {},
   "outputs": [],
   "source": [
    "extracted = pd.read_csv(\"extracted.csv\")\n",
    "extracted.dropna(inplace=True)\n",
    "data.reset_index(inplace=True)\n",
    "extracted[\"KeyFile\"] = data[\"KeyFile\"]\n",
    "extracted.drop(\"Unnamed: 0\", axis = 1, inplace=True)\n",
    "\n",
    "\n",
    "extracted2 = pd.merge(extracted, relative,  how='left', left_on=['KeyFile','TableFormOrder'], right_on = ['KeyFile','TableFormOrder'])\n",
    "extracted = extracted2\n",
    "extracted.head()\n",
    "\n",
    "extracted = extracted.join(pd.get_dummies(extracted[\"relativeIndex\"], drop_first=True))"
   ]
  },
  {
   "cell_type": "code",
   "execution_count": 16,
   "metadata": {},
   "outputs": [
    {
     "data": {
      "text/plain": [
       "(31804, 178)"
      ]
     },
     "execution_count": 16,
     "metadata": {},
     "output_type": "execute_result"
    }
   ],
   "source": [
    "extracted.shape"
   ]
  },
  {
   "cell_type": "code",
   "execution_count": 94,
   "metadata": {},
   "outputs": [],
   "source": [
    "extracted[\"label_name\"]  = extracted[\"label_name\"].fillna(\"Not appropriate\")"
   ]
  },
  {
   "cell_type": "code",
   "execution_count": 141,
   "metadata": {},
   "outputs": [],
   "source": [
    "# extracted = extracted.join(pd.get_dummies(extracted[\"TableFormOrder\"], drop_first=True))"
   ]
  },
  {
   "cell_type": "code",
   "execution_count": 29,
   "metadata": {},
   "outputs": [
    {
     "data": {
      "text/plain": [
       "246"
      ]
     },
     "execution_count": 29,
     "metadata": {},
     "output_type": "execute_result"
    }
   ],
   "source": [
    "extracted[\"label_name\"].nunique()"
   ]
  },
  {
   "cell_type": "code",
   "execution_count": 17,
   "metadata": {},
   "outputs": [
    {
     "data": {
      "text/html": [
       "<div>\n",
       "<style scoped>\n",
       "    .dataframe tbody tr th:only-of-type {\n",
       "        vertical-align: middle;\n",
       "    }\n",
       "\n",
       "    .dataframe tbody tr th {\n",
       "        vertical-align: top;\n",
       "    }\n",
       "\n",
       "    .dataframe thead th {\n",
       "        text-align: right;\n",
       "    }\n",
       "</style>\n",
       "<table border=\"1\" class=\"dataframe\">\n",
       "  <thead>\n",
       "    <tr style=\"text-align: right;\">\n",
       "      <th></th>\n",
       "      <th>TableFormOrder</th>\n",
       "      <th>ExtractedDocumentTable</th>\n",
       "      <th>label_name</th>\n",
       "      <th>value_text_concat</th>\n",
       "      <th>newText</th>\n",
       "      <th>KeyFile</th>\n",
       "      <th>relativeIndex</th>\n",
       "      <th>1</th>\n",
       "      <th>2</th>\n",
       "      <th>3</th>\n",
       "      <th>...</th>\n",
       "      <th>171</th>\n",
       "      <th>173</th>\n",
       "      <th>174</th>\n",
       "      <th>175</th>\n",
       "      <th>176</th>\n",
       "      <th>179</th>\n",
       "      <th>182</th>\n",
       "      <th>183</th>\n",
       "      <th>184</th>\n",
       "      <th>228</th>\n",
       "    </tr>\n",
       "  </thead>\n",
       "  <tbody>\n",
       "    <tr>\n",
       "      <th>0</th>\n",
       "      <td>6000</td>\n",
       "      <td>consolidated statements cash flows</td>\n",
       "      <td>Cash Flow</td>\n",
       "      <td>cash flows operating activities net loss cash ...</td>\n",
       "      <td>consolidated statements cash flows cash flows ...</td>\n",
       "      <td>24860523</td>\n",
       "      <td>2</td>\n",
       "      <td>0</td>\n",
       "      <td>1</td>\n",
       "      <td>0</td>\n",
       "      <td>...</td>\n",
       "      <td>0</td>\n",
       "      <td>0</td>\n",
       "      <td>0</td>\n",
       "      <td>0</td>\n",
       "      <td>0</td>\n",
       "      <td>0</td>\n",
       "      <td>0</td>\n",
       "      <td>0</td>\n",
       "      <td>0</td>\n",
       "      <td>0</td>\n",
       "    </tr>\n",
       "    <tr>\n",
       "      <th>1</th>\n",
       "      <td>23000</td>\n",
       "      <td>consolidated statements operations</td>\n",
       "      <td>Income Statement</td>\n",
       "      <td>revenues circulation revenues circulation reve...</td>\n",
       "      <td>consolidated statements operations revenues ci...</td>\n",
       "      <td>38184177</td>\n",
       "      <td>21</td>\n",
       "      <td>0</td>\n",
       "      <td>0</td>\n",
       "      <td>0</td>\n",
       "      <td>...</td>\n",
       "      <td>0</td>\n",
       "      <td>0</td>\n",
       "      <td>0</td>\n",
       "      <td>0</td>\n",
       "      <td>0</td>\n",
       "      <td>0</td>\n",
       "      <td>0</td>\n",
       "      <td>0</td>\n",
       "      <td>0</td>\n",
       "      <td>0</td>\n",
       "    </tr>\n",
       "    <tr>\n",
       "      <th>2</th>\n",
       "      <td>1000</td>\n",
       "      <td>capital adequacy</td>\n",
       "      <td>Capital Adequacy</td>\n",
       "      <td>credit risk standardized approach institutes c...</td>\n",
       "      <td>capital adequacy credit risk standardized appr...</td>\n",
       "      <td>390786062</td>\n",
       "      <td>0</td>\n",
       "      <td>0</td>\n",
       "      <td>0</td>\n",
       "      <td>0</td>\n",
       "      <td>...</td>\n",
       "      <td>0</td>\n",
       "      <td>0</td>\n",
       "      <td>0</td>\n",
       "      <td>0</td>\n",
       "      <td>0</td>\n",
       "      <td>0</td>\n",
       "      <td>0</td>\n",
       "      <td>0</td>\n",
       "      <td>0</td>\n",
       "      <td>0</td>\n",
       "    </tr>\n",
       "    <tr>\n",
       "      <th>3</th>\n",
       "      <td>4000</td>\n",
       "      <td>assetliability maturity analysis</td>\n",
       "      <td>Asset/Liability Maturity Analysis - OF</td>\n",
       "      <td>total assets 30 days total assets 60 days tota...</td>\n",
       "      <td>assetliability maturity analysis total assets ...</td>\n",
       "      <td>35703753</td>\n",
       "      <td>2</td>\n",
       "      <td>0</td>\n",
       "      <td>1</td>\n",
       "      <td>0</td>\n",
       "      <td>...</td>\n",
       "      <td>0</td>\n",
       "      <td>0</td>\n",
       "      <td>0</td>\n",
       "      <td>0</td>\n",
       "      <td>0</td>\n",
       "      <td>0</td>\n",
       "      <td>0</td>\n",
       "      <td>0</td>\n",
       "      <td>0</td>\n",
       "      <td>0</td>\n",
       "    </tr>\n",
       "    <tr>\n",
       "      <th>4</th>\n",
       "      <td>4000</td>\n",
       "      <td>condensed consolidated statements operations</td>\n",
       "      <td>Income Statement</td>\n",
       "      <td>revenues investment banking revenue revenues i...</td>\n",
       "      <td>condensed consolidated statements operations r...</td>\n",
       "      <td>14299187</td>\n",
       "      <td>1</td>\n",
       "      <td>1</td>\n",
       "      <td>0</td>\n",
       "      <td>0</td>\n",
       "      <td>...</td>\n",
       "      <td>0</td>\n",
       "      <td>0</td>\n",
       "      <td>0</td>\n",
       "      <td>0</td>\n",
       "      <td>0</td>\n",
       "      <td>0</td>\n",
       "      <td>0</td>\n",
       "      <td>0</td>\n",
       "      <td>0</td>\n",
       "      <td>0</td>\n",
       "    </tr>\n",
       "  </tbody>\n",
       "</table>\n",
       "<p>5 rows × 178 columns</p>\n",
       "</div>"
      ],
      "text/plain": [
       "   TableFormOrder                        ExtractedDocumentTable  \\\n",
       "0            6000            consolidated statements cash flows   \n",
       "1           23000            consolidated statements operations   \n",
       "2            1000                              capital adequacy   \n",
       "3            4000              assetliability maturity analysis   \n",
       "4            4000  condensed consolidated statements operations   \n",
       "\n",
       "                               label_name  \\\n",
       "0                               Cash Flow   \n",
       "1                        Income Statement   \n",
       "2                        Capital Adequacy   \n",
       "3  Asset/Liability Maturity Analysis - OF   \n",
       "4                        Income Statement   \n",
       "\n",
       "                                   value_text_concat  \\\n",
       "0  cash flows operating activities net loss cash ...   \n",
       "1  revenues circulation revenues circulation reve...   \n",
       "2  credit risk standardized approach institutes c...   \n",
       "3  total assets 30 days total assets 60 days tota...   \n",
       "4  revenues investment banking revenue revenues i...   \n",
       "\n",
       "                                             newText    KeyFile  \\\n",
       "0  consolidated statements cash flows cash flows ...   24860523   \n",
       "1  consolidated statements operations revenues ci...   38184177   \n",
       "2  capital adequacy credit risk standardized appr...  390786062   \n",
       "3  assetliability maturity analysis total assets ...   35703753   \n",
       "4  condensed consolidated statements operations r...   14299187   \n",
       "\n",
       "   relativeIndex  1  2  3 ...   171  173  174  175  176  179  182  183  184  \\\n",
       "0              2  0  1  0 ...     0    0    0    0    0    0    0    0    0   \n",
       "1             21  0  0  0 ...     0    0    0    0    0    0    0    0    0   \n",
       "2              0  0  0  0 ...     0    0    0    0    0    0    0    0    0   \n",
       "3              2  0  1  0 ...     0    0    0    0    0    0    0    0    0   \n",
       "4              1  1  0  0 ...     0    0    0    0    0    0    0    0    0   \n",
       "\n",
       "   228  \n",
       "0    0  \n",
       "1    0  \n",
       "2    0  \n",
       "3    0  \n",
       "4    0  \n",
       "\n",
       "[5 rows x 178 columns]"
      ]
     },
     "execution_count": 17,
     "metadata": {},
     "output_type": "execute_result"
    }
   ],
   "source": [
    "extracted.head()"
   ]
  },
  {
   "cell_type": "code",
   "execution_count": 19,
   "metadata": {},
   "outputs": [],
   "source": [
    "msg_train, msg_test, label_train, label_test = \\\n",
    "train_test_split(extracted.drop([\"TableFormOrder\",\"ExtractedDocumentTable\",\"label_name\",\"value_text_concat\",\"KeyFile\",\"relativeIndex\"], axis =1), extracted['label_name'], test_size=0.2)\n",
    "bow_transformer = CountVectorizer(max_features=1000).fit(msg_train['newText'])\n"
   ]
  },
  {
   "cell_type": "code",
   "execution_count": 42,
   "metadata": {},
   "outputs": [
    {
     "name": "stdout",
     "output_type": "stream",
     "text": [
      "INFO:tensorflow:Using default config.\n",
      "WARNING:tensorflow:Using temporary folder as model directory: C:\\Users\\BRYAN_~1\\AppData\\Local\\Temp\\tmprorzzhuz\n",
      "INFO:tensorflow:Using config: {'_task_type': None, '_task_id': 0, '_cluster_spec': <tensorflow.python.training.server_lib.ClusterSpec object at 0x0000002881127240>, '_master': '', '_num_ps_replicas': 0, '_num_worker_replicas': 0, '_environment': 'local', '_is_chief': True, '_evaluation_master': '', '_train_distribute': None, '_device_fn': None, '_tf_config': gpu_options {\n",
      "  per_process_gpu_memory_fraction: 1\n",
      "}\n",
      ", '_tf_random_seed': None, '_save_summary_steps': 100, '_save_checkpoints_secs': 600, '_log_step_count_steps': 100, '_session_config': None, '_save_checkpoints_steps': None, '_keep_checkpoint_max': 5, '_keep_checkpoint_every_n_hours': 10000, '_model_dir': 'C:\\\\Users\\\\BRYAN_~1\\\\AppData\\\\Local\\\\Temp\\\\tmprorzzhuz'}\n"
     ]
    }
   ],
   "source": [
    "feature_columns = [tf.contrib.layers.real_valued_column(\"\", dimension=4)]\n",
    "classifier = DNNClassifier(feature_columns=feature_columns,hidden_units=[25443000,20,10], n_classes=246)"
   ]
  },
  {
   "cell_type": "code",
   "execution_count": 43,
   "metadata": {},
   "outputs": [
    {
     "name": "stdout",
     "output_type": "stream",
     "text": [
      "WARNING:tensorflow:float64 is not supported by many models, consider casting to float32.\n"
     ]
    },
    {
     "ename": "ValueError",
     "evalue": "Labels dtype should be integer Instead got <dtype: 'string'>.",
     "output_type": "error",
     "traceback": [
      "\u001b[1;31m---------------------------------------------------------------------------\u001b[0m",
      "\u001b[1;31mValueError\u001b[0m                                Traceback (most recent call last)",
      "\u001b[1;32m<ipython-input-43-59096ce65ab8>\u001b[0m in \u001b[0;36m<module>\u001b[1;34m()\u001b[0m\n\u001b[0;32m     15\u001b[0m \u001b[1;33m\u001b[0m\u001b[0m\n\u001b[0;32m     16\u001b[0m \u001b[1;33m\u001b[0m\u001b[0m\n\u001b[1;32m---> 17\u001b[1;33m \u001b[0mclassifier\u001b[0m\u001b[1;33m.\u001b[0m\u001b[0mfit\u001b[0m\u001b[1;33m(\u001b[0m\u001b[0mX_train_dtm\u001b[0m\u001b[1;33m,\u001b[0m \u001b[0mlabel_train\u001b[0m\u001b[1;33m)\u001b[0m\u001b[1;33m\u001b[0m\u001b[0m\n\u001b[0m",
      "\u001b[1;32m~\\AppData\\Local\\Continuum\\anaconda3\\lib\\site-packages\\tensorflow\\python\\util\\deprecation.py\u001b[0m in \u001b[0;36mnew_func\u001b[1;34m(*args, **kwargs)\u001b[0m\n\u001b[0;32m    430\u001b[0m                 \u001b[1;34m'in a future version'\u001b[0m \u001b[1;32mif\u001b[0m \u001b[0mdate\u001b[0m \u001b[1;32mis\u001b[0m \u001b[1;32mNone\u001b[0m \u001b[1;32melse\u001b[0m \u001b[1;33m(\u001b[0m\u001b[1;34m'after %s'\u001b[0m \u001b[1;33m%\u001b[0m \u001b[0mdate\u001b[0m\u001b[1;33m)\u001b[0m\u001b[1;33m,\u001b[0m\u001b[1;33m\u001b[0m\u001b[0m\n\u001b[0;32m    431\u001b[0m                 instructions)\n\u001b[1;32m--> 432\u001b[1;33m       \u001b[1;32mreturn\u001b[0m \u001b[0mfunc\u001b[0m\u001b[1;33m(\u001b[0m\u001b[1;33m*\u001b[0m\u001b[0margs\u001b[0m\u001b[1;33m,\u001b[0m \u001b[1;33m**\u001b[0m\u001b[0mkwargs\u001b[0m\u001b[1;33m)\u001b[0m\u001b[1;33m\u001b[0m\u001b[0m\n\u001b[0m\u001b[0;32m    433\u001b[0m     return tf_decorator.make_decorator(func, new_func, 'deprecated',\n\u001b[0;32m    434\u001b[0m                                        _add_deprecated_arg_notice_to_docstring(\n",
      "\u001b[1;32m~\\AppData\\Local\\Continuum\\anaconda3\\lib\\site-packages\\tensorflow\\contrib\\learn\\python\\learn\\estimators\\estimator.py\u001b[0m in \u001b[0;36mfit\u001b[1;34m(self, x, y, input_fn, steps, batch_size, monitors, max_steps)\u001b[0m\n\u001b[0;32m    506\u001b[0m     \u001b[0m_verify_input_args\u001b[0m\u001b[1;33m(\u001b[0m\u001b[0mx\u001b[0m\u001b[1;33m,\u001b[0m \u001b[0my\u001b[0m\u001b[1;33m,\u001b[0m \u001b[0minput_fn\u001b[0m\u001b[1;33m,\u001b[0m \u001b[1;32mNone\u001b[0m\u001b[1;33m,\u001b[0m \u001b[0mbatch_size\u001b[0m\u001b[1;33m)\u001b[0m\u001b[1;33m\u001b[0m\u001b[0m\n\u001b[0;32m    507\u001b[0m     \u001b[1;32mif\u001b[0m \u001b[0mx\u001b[0m \u001b[1;32mis\u001b[0m \u001b[1;32mnot\u001b[0m \u001b[1;32mNone\u001b[0m\u001b[1;33m:\u001b[0m\u001b[1;33m\u001b[0m\u001b[0m\n\u001b[1;32m--> 508\u001b[1;33m       \u001b[0mSKCompat\u001b[0m\u001b[1;33m(\u001b[0m\u001b[0mself\u001b[0m\u001b[1;33m)\u001b[0m\u001b[1;33m.\u001b[0m\u001b[0mfit\u001b[0m\u001b[1;33m(\u001b[0m\u001b[0mx\u001b[0m\u001b[1;33m,\u001b[0m \u001b[0my\u001b[0m\u001b[1;33m,\u001b[0m \u001b[0mbatch_size\u001b[0m\u001b[1;33m,\u001b[0m \u001b[0msteps\u001b[0m\u001b[1;33m,\u001b[0m \u001b[0mmax_steps\u001b[0m\u001b[1;33m,\u001b[0m \u001b[0mmonitors\u001b[0m\u001b[1;33m)\u001b[0m\u001b[1;33m\u001b[0m\u001b[0m\n\u001b[0m\u001b[0;32m    509\u001b[0m       \u001b[1;32mreturn\u001b[0m \u001b[0mself\u001b[0m\u001b[1;33m\u001b[0m\u001b[0m\n\u001b[0;32m    510\u001b[0m \u001b[1;33m\u001b[0m\u001b[0m\n",
      "\u001b[1;32m~\\AppData\\Local\\Continuum\\anaconda3\\lib\\site-packages\\tensorflow\\contrib\\learn\\python\\learn\\estimators\\estimator.py\u001b[0m in \u001b[0;36mfit\u001b[1;34m(self, x, y, batch_size, steps, max_steps, monitors)\u001b[0m\n\u001b[0;32m   1525\u001b[0m         \u001b[0msteps\u001b[0m\u001b[1;33m=\u001b[0m\u001b[0msteps\u001b[0m\u001b[1;33m,\u001b[0m\u001b[1;33m\u001b[0m\u001b[0m\n\u001b[0;32m   1526\u001b[0m         \u001b[0mmax_steps\u001b[0m\u001b[1;33m=\u001b[0m\u001b[0mmax_steps\u001b[0m\u001b[1;33m,\u001b[0m\u001b[1;33m\u001b[0m\u001b[0m\n\u001b[1;32m-> 1527\u001b[1;33m         monitors=all_monitors)\n\u001b[0m\u001b[0;32m   1528\u001b[0m     \u001b[1;32mreturn\u001b[0m \u001b[0mself\u001b[0m\u001b[1;33m\u001b[0m\u001b[0m\n\u001b[0;32m   1529\u001b[0m \u001b[1;33m\u001b[0m\u001b[0m\n",
      "\u001b[1;32m~\\AppData\\Local\\Continuum\\anaconda3\\lib\\site-packages\\tensorflow\\python\\util\\deprecation.py\u001b[0m in \u001b[0;36mnew_func\u001b[1;34m(*args, **kwargs)\u001b[0m\n\u001b[0;32m    430\u001b[0m                 \u001b[1;34m'in a future version'\u001b[0m \u001b[1;32mif\u001b[0m \u001b[0mdate\u001b[0m \u001b[1;32mis\u001b[0m \u001b[1;32mNone\u001b[0m \u001b[1;32melse\u001b[0m \u001b[1;33m(\u001b[0m\u001b[1;34m'after %s'\u001b[0m \u001b[1;33m%\u001b[0m \u001b[0mdate\u001b[0m\u001b[1;33m)\u001b[0m\u001b[1;33m,\u001b[0m\u001b[1;33m\u001b[0m\u001b[0m\n\u001b[0;32m    431\u001b[0m                 instructions)\n\u001b[1;32m--> 432\u001b[1;33m       \u001b[1;32mreturn\u001b[0m \u001b[0mfunc\u001b[0m\u001b[1;33m(\u001b[0m\u001b[1;33m*\u001b[0m\u001b[0margs\u001b[0m\u001b[1;33m,\u001b[0m \u001b[1;33m**\u001b[0m\u001b[0mkwargs\u001b[0m\u001b[1;33m)\u001b[0m\u001b[1;33m\u001b[0m\u001b[0m\n\u001b[0m\u001b[0;32m    433\u001b[0m     return tf_decorator.make_decorator(func, new_func, 'deprecated',\n\u001b[0;32m    434\u001b[0m                                        _add_deprecated_arg_notice_to_docstring(\n",
      "\u001b[1;32m~\\AppData\\Local\\Continuum\\anaconda3\\lib\\site-packages\\tensorflow\\contrib\\learn\\python\\learn\\estimators\\estimator.py\u001b[0m in \u001b[0;36mfit\u001b[1;34m(self, x, y, input_fn, steps, batch_size, monitors, max_steps)\u001b[0m\n\u001b[0;32m    522\u001b[0m       \u001b[0mhooks\u001b[0m\u001b[1;33m.\u001b[0m\u001b[0mappend\u001b[0m\u001b[1;33m(\u001b[0m\u001b[0mbasic_session_run_hooks\u001b[0m\u001b[1;33m.\u001b[0m\u001b[0mStopAtStepHook\u001b[0m\u001b[1;33m(\u001b[0m\u001b[0msteps\u001b[0m\u001b[1;33m,\u001b[0m \u001b[0mmax_steps\u001b[0m\u001b[1;33m)\u001b[0m\u001b[1;33m)\u001b[0m\u001b[1;33m\u001b[0m\u001b[0m\n\u001b[0;32m    523\u001b[0m \u001b[1;33m\u001b[0m\u001b[0m\n\u001b[1;32m--> 524\u001b[1;33m     \u001b[0mloss\u001b[0m \u001b[1;33m=\u001b[0m \u001b[0mself\u001b[0m\u001b[1;33m.\u001b[0m\u001b[0m_train_model\u001b[0m\u001b[1;33m(\u001b[0m\u001b[0minput_fn\u001b[0m\u001b[1;33m=\u001b[0m\u001b[0minput_fn\u001b[0m\u001b[1;33m,\u001b[0m \u001b[0mhooks\u001b[0m\u001b[1;33m=\u001b[0m\u001b[0mhooks\u001b[0m\u001b[1;33m)\u001b[0m\u001b[1;33m\u001b[0m\u001b[0m\n\u001b[0m\u001b[0;32m    525\u001b[0m     \u001b[0mlogging\u001b[0m\u001b[1;33m.\u001b[0m\u001b[0minfo\u001b[0m\u001b[1;33m(\u001b[0m\u001b[1;34m'Loss for final step: %s.'\u001b[0m\u001b[1;33m,\u001b[0m \u001b[0mloss\u001b[0m\u001b[1;33m)\u001b[0m\u001b[1;33m\u001b[0m\u001b[0m\n\u001b[0;32m    526\u001b[0m     \u001b[1;32mreturn\u001b[0m \u001b[0mself\u001b[0m\u001b[1;33m\u001b[0m\u001b[0m\n",
      "\u001b[1;32m~\\AppData\\Local\\Continuum\\anaconda3\\lib\\site-packages\\tensorflow\\contrib\\learn\\python\\learn\\estimators\\estimator.py\u001b[0m in \u001b[0;36m_train_model\u001b[1;34m(self, input_fn, hooks)\u001b[0m\n\u001b[0;32m   1039\u001b[0m       \u001b[0mself\u001b[0m\u001b[1;33m.\u001b[0m\u001b[0m_check_inputs\u001b[0m\u001b[1;33m(\u001b[0m\u001b[0mfeatures\u001b[0m\u001b[1;33m,\u001b[0m \u001b[0mlabels\u001b[0m\u001b[1;33m)\u001b[0m\u001b[1;33m\u001b[0m\u001b[0m\n\u001b[0;32m   1040\u001b[0m       \u001b[0mtraining_util\u001b[0m\u001b[1;33m.\u001b[0m\u001b[0m_get_or_create_global_step_read\u001b[0m\u001b[1;33m(\u001b[0m\u001b[1;33m)\u001b[0m  \u001b[1;31m# pylint: disable=protected-access\u001b[0m\u001b[1;33m\u001b[0m\u001b[0m\n\u001b[1;32m-> 1041\u001b[1;33m       \u001b[0mmodel_fn_ops\u001b[0m \u001b[1;33m=\u001b[0m \u001b[0mself\u001b[0m\u001b[1;33m.\u001b[0m\u001b[0m_get_train_ops\u001b[0m\u001b[1;33m(\u001b[0m\u001b[0mfeatures\u001b[0m\u001b[1;33m,\u001b[0m \u001b[0mlabels\u001b[0m\u001b[1;33m)\u001b[0m\u001b[1;33m\u001b[0m\u001b[0m\n\u001b[0m\u001b[0;32m   1042\u001b[0m       \u001b[0mops\u001b[0m\u001b[1;33m.\u001b[0m\u001b[0madd_to_collection\u001b[0m\u001b[1;33m(\u001b[0m\u001b[0mops\u001b[0m\u001b[1;33m.\u001b[0m\u001b[0mGraphKeys\u001b[0m\u001b[1;33m.\u001b[0m\u001b[0mLOSSES\u001b[0m\u001b[1;33m,\u001b[0m \u001b[0mmodel_fn_ops\u001b[0m\u001b[1;33m.\u001b[0m\u001b[0mloss\u001b[0m\u001b[1;33m)\u001b[0m\u001b[1;33m\u001b[0m\u001b[0m\n\u001b[0;32m   1043\u001b[0m       \u001b[0mall_hooks\u001b[0m\u001b[1;33m.\u001b[0m\u001b[0mextend\u001b[0m\u001b[1;33m(\u001b[0m\u001b[0mhooks\u001b[0m\u001b[1;33m)\u001b[0m\u001b[1;33m\u001b[0m\u001b[0m\n",
      "\u001b[1;32m~\\AppData\\Local\\Continuum\\anaconda3\\lib\\site-packages\\tensorflow\\contrib\\learn\\python\\learn\\estimators\\estimator.py\u001b[0m in \u001b[0;36m_get_train_ops\u001b[1;34m(self, features, labels)\u001b[0m\n\u001b[0;32m   1262\u001b[0m       \u001b[0;31m`\u001b[0m\u001b[0mModelFnOps\u001b[0m\u001b[0;31m`\u001b[0m \u001b[0mobject\u001b[0m\u001b[1;33m.\u001b[0m\u001b[1;33m\u001b[0m\u001b[0m\n\u001b[0;32m   1263\u001b[0m     \"\"\"\n\u001b[1;32m-> 1264\u001b[1;33m     \u001b[1;32mreturn\u001b[0m \u001b[0mself\u001b[0m\u001b[1;33m.\u001b[0m\u001b[0m_call_model_fn\u001b[0m\u001b[1;33m(\u001b[0m\u001b[0mfeatures\u001b[0m\u001b[1;33m,\u001b[0m \u001b[0mlabels\u001b[0m\u001b[1;33m,\u001b[0m \u001b[0mmodel_fn_lib\u001b[0m\u001b[1;33m.\u001b[0m\u001b[0mModeKeys\u001b[0m\u001b[1;33m.\u001b[0m\u001b[0mTRAIN\u001b[0m\u001b[1;33m)\u001b[0m\u001b[1;33m\u001b[0m\u001b[0m\n\u001b[0m\u001b[0;32m   1265\u001b[0m \u001b[1;33m\u001b[0m\u001b[0m\n\u001b[0;32m   1266\u001b[0m   \u001b[1;32mdef\u001b[0m \u001b[0m_get_eval_ops\u001b[0m\u001b[1;33m(\u001b[0m\u001b[0mself\u001b[0m\u001b[1;33m,\u001b[0m \u001b[0mfeatures\u001b[0m\u001b[1;33m,\u001b[0m \u001b[0mlabels\u001b[0m\u001b[1;33m,\u001b[0m \u001b[0mmetrics\u001b[0m\u001b[1;33m)\u001b[0m\u001b[1;33m:\u001b[0m\u001b[1;33m\u001b[0m\u001b[0m\n",
      "\u001b[1;32m~\\AppData\\Local\\Continuum\\anaconda3\\lib\\site-packages\\tensorflow\\contrib\\learn\\python\\learn\\estimators\\estimator.py\u001b[0m in \u001b[0;36m_call_model_fn\u001b[1;34m(self, features, labels, mode, metrics, config)\u001b[0m\n\u001b[0;32m   1225\u001b[0m     \u001b[1;32mif\u001b[0m \u001b[1;34m'model_dir'\u001b[0m \u001b[1;32min\u001b[0m \u001b[0mmodel_fn_args\u001b[0m\u001b[1;33m:\u001b[0m\u001b[1;33m\u001b[0m\u001b[0m\n\u001b[0;32m   1226\u001b[0m       \u001b[0mkwargs\u001b[0m\u001b[1;33m[\u001b[0m\u001b[1;34m'model_dir'\u001b[0m\u001b[1;33m]\u001b[0m \u001b[1;33m=\u001b[0m \u001b[0mself\u001b[0m\u001b[1;33m.\u001b[0m\u001b[0mmodel_dir\u001b[0m\u001b[1;33m\u001b[0m\u001b[0m\n\u001b[1;32m-> 1227\u001b[1;33m     \u001b[0mmodel_fn_results\u001b[0m \u001b[1;33m=\u001b[0m \u001b[0mself\u001b[0m\u001b[1;33m.\u001b[0m\u001b[0m_model_fn\u001b[0m\u001b[1;33m(\u001b[0m\u001b[0mfeatures\u001b[0m\u001b[1;33m,\u001b[0m \u001b[0mlabels\u001b[0m\u001b[1;33m,\u001b[0m \u001b[1;33m**\u001b[0m\u001b[0mkwargs\u001b[0m\u001b[1;33m)\u001b[0m\u001b[1;33m\u001b[0m\u001b[0m\n\u001b[0m\u001b[0;32m   1228\u001b[0m \u001b[1;33m\u001b[0m\u001b[0m\n\u001b[0;32m   1229\u001b[0m     \u001b[1;32mif\u001b[0m \u001b[0misinstance\u001b[0m\u001b[1;33m(\u001b[0m\u001b[0mmodel_fn_results\u001b[0m\u001b[1;33m,\u001b[0m \u001b[0mmodel_fn_lib\u001b[0m\u001b[1;33m.\u001b[0m\u001b[0mModelFnOps\u001b[0m\u001b[1;33m)\u001b[0m\u001b[1;33m:\u001b[0m\u001b[1;33m\u001b[0m\u001b[0m\n",
      "\u001b[1;32m~\\AppData\\Local\\Continuum\\anaconda3\\lib\\site-packages\\tensorflow\\contrib\\learn\\python\\learn\\estimators\\dnn.py\u001b[0m in \u001b[0;36m_dnn_model_fn\u001b[1;34m(features, labels, mode, params, config)\u001b[0m\n\u001b[0;32m    212\u001b[0m         \u001b[0mlabels\u001b[0m\u001b[1;33m=\u001b[0m\u001b[0mlabels\u001b[0m\u001b[1;33m,\u001b[0m\u001b[1;33m\u001b[0m\u001b[0m\n\u001b[0;32m    213\u001b[0m         \u001b[0mtrain_op_fn\u001b[0m\u001b[1;33m=\u001b[0m\u001b[0m_train_op_fn\u001b[0m\u001b[1;33m,\u001b[0m\u001b[1;33m\u001b[0m\u001b[0m\n\u001b[1;32m--> 214\u001b[1;33m         logits=logits)\n\u001b[0m\u001b[0;32m    215\u001b[0m \u001b[1;33m\u001b[0m\u001b[0m\n\u001b[0;32m    216\u001b[0m \u001b[1;33m\u001b[0m\u001b[0m\n",
      "\u001b[1;32m~\\AppData\\Local\\Continuum\\anaconda3\\lib\\site-packages\\tensorflow\\contrib\\learn\\python\\learn\\estimators\\head.py\u001b[0m in \u001b[0;36mcreate_model_fn_ops\u001b[1;34m(self, features, mode, labels, train_op_fn, logits, logits_input, scope)\u001b[0m\n\u001b[0;32m   1083\u001b[0m           \u001b[0mhead_name\u001b[0m\u001b[1;33m=\u001b[0m\u001b[0mself\u001b[0m\u001b[1;33m.\u001b[0m\u001b[0mhead_name\u001b[0m\u001b[1;33m,\u001b[0m\u001b[1;33m\u001b[0m\u001b[0m\n\u001b[0;32m   1084\u001b[0m           \u001b[0mweight_column_name\u001b[0m\u001b[1;33m=\u001b[0m\u001b[0mself\u001b[0m\u001b[1;33m.\u001b[0m\u001b[0mweight_column_name\u001b[0m\u001b[1;33m,\u001b[0m\u001b[1;33m\u001b[0m\u001b[0m\n\u001b[1;32m-> 1085\u001b[1;33m           enable_centered_bias=self._enable_centered_bias)\n\u001b[0m\u001b[0;32m   1086\u001b[0m \u001b[1;33m\u001b[0m\u001b[0m\n\u001b[0;32m   1087\u001b[0m   \u001b[1;32mdef\u001b[0m \u001b[0m_transform_labels\u001b[0m\u001b[1;33m(\u001b[0m\u001b[0mself\u001b[0m\u001b[1;33m,\u001b[0m \u001b[0mmode\u001b[0m\u001b[1;33m,\u001b[0m \u001b[0mlabels\u001b[0m\u001b[1;33m)\u001b[0m\u001b[1;33m:\u001b[0m\u001b[1;33m\u001b[0m\u001b[0m\n",
      "\u001b[1;32m~\\AppData\\Local\\Continuum\\anaconda3\\lib\\site-packages\\tensorflow\\contrib\\learn\\python\\learn\\estimators\\head.py\u001b[0m in \u001b[0;36m_create_model_fn_ops\u001b[1;34m(features, mode, loss_fn, logits_to_predictions_fn, metrics_fn, create_output_alternatives_fn, labels, train_op_fn, logits, logits_dimension, head_name, weight_column_name, enable_centered_bias)\u001b[0m\n\u001b[0;32m    655\u001b[0m   \u001b[1;32mif\u001b[0m \u001b[1;33m(\u001b[0m\u001b[0mmode\u001b[0m \u001b[1;33m!=\u001b[0m \u001b[0mmodel_fn\u001b[0m\u001b[1;33m.\u001b[0m\u001b[0mModeKeys\u001b[0m\u001b[1;33m.\u001b[0m\u001b[0mINFER\u001b[0m\u001b[1;33m)\u001b[0m \u001b[1;32mand\u001b[0m \u001b[1;33m(\u001b[0m\u001b[0mlabels\u001b[0m \u001b[1;32mis\u001b[0m \u001b[1;32mnot\u001b[0m \u001b[1;32mNone\u001b[0m\u001b[1;33m)\u001b[0m\u001b[1;33m:\u001b[0m\u001b[1;33m\u001b[0m\u001b[0m\n\u001b[0;32m    656\u001b[0m     \u001b[0mweight_tensor\u001b[0m \u001b[1;33m=\u001b[0m \u001b[0m_weight_tensor\u001b[0m\u001b[1;33m(\u001b[0m\u001b[0mfeatures\u001b[0m\u001b[1;33m,\u001b[0m \u001b[0mweight_column_name\u001b[0m\u001b[1;33m)\u001b[0m\u001b[1;33m\u001b[0m\u001b[0m\n\u001b[1;32m--> 657\u001b[1;33m     \u001b[0mloss\u001b[0m\u001b[1;33m,\u001b[0m \u001b[0mweighted_average_loss\u001b[0m \u001b[1;33m=\u001b[0m \u001b[0mloss_fn\u001b[0m\u001b[1;33m(\u001b[0m\u001b[0mlabels\u001b[0m\u001b[1;33m,\u001b[0m \u001b[0mlogits\u001b[0m\u001b[1;33m,\u001b[0m \u001b[0mweight_tensor\u001b[0m\u001b[1;33m)\u001b[0m\u001b[1;33m\u001b[0m\u001b[0m\n\u001b[0m\u001b[0;32m    658\u001b[0m     \u001b[1;31m# The name_scope escapism is needed to maintain the same summary tag\u001b[0m\u001b[1;33m\u001b[0m\u001b[1;33m\u001b[0m\u001b[0m\n\u001b[0;32m    659\u001b[0m     \u001b[1;31m# after switching away from the now unsupported API.\u001b[0m\u001b[1;33m\u001b[0m\u001b[1;33m\u001b[0m\u001b[0m\n",
      "\u001b[1;32m~\\AppData\\Local\\Continuum\\anaconda3\\lib\\site-packages\\tensorflow\\contrib\\learn\\python\\learn\\estimators\\head.py\u001b[0m in \u001b[0;36m_wrapped_loss_fn\u001b[1;34m(self, labels, logits, weights)\u001b[0m\n\u001b[0;32m   1112\u001b[0m \u001b[1;33m\u001b[0m\u001b[0m\n\u001b[0;32m   1113\u001b[0m   \u001b[1;32mdef\u001b[0m \u001b[0m_wrapped_loss_fn\u001b[0m\u001b[1;33m(\u001b[0m\u001b[0mself\u001b[0m\u001b[1;33m,\u001b[0m \u001b[0mlabels\u001b[0m\u001b[1;33m,\u001b[0m \u001b[0mlogits\u001b[0m\u001b[1;33m,\u001b[0m \u001b[0mweights\u001b[0m\u001b[1;33m=\u001b[0m\u001b[1;32mNone\u001b[0m\u001b[1;33m)\u001b[0m\u001b[1;33m:\u001b[0m\u001b[1;33m\u001b[0m\u001b[0m\n\u001b[1;32m-> 1114\u001b[1;33m     \u001b[1;32mreturn\u001b[0m \u001b[0mself\u001b[0m\u001b[1;33m.\u001b[0m\u001b[0m_loss_fn\u001b[0m\u001b[1;33m(\u001b[0m\u001b[0mself\u001b[0m\u001b[1;33m.\u001b[0m\u001b[0m_label_ids\u001b[0m\u001b[1;33m(\u001b[0m\u001b[0mlabels\u001b[0m\u001b[1;33m)\u001b[0m\u001b[1;33m,\u001b[0m \u001b[0mlogits\u001b[0m\u001b[1;33m,\u001b[0m \u001b[0mweights\u001b[0m\u001b[1;33m=\u001b[0m\u001b[0mweights\u001b[0m\u001b[1;33m)\u001b[0m\u001b[1;33m\u001b[0m\u001b[0m\n\u001b[0m\u001b[0;32m   1115\u001b[0m \u001b[1;33m\u001b[0m\u001b[0m\n\u001b[0;32m   1116\u001b[0m   \u001b[1;32mdef\u001b[0m \u001b[0m_logits_to_predictions\u001b[0m\u001b[1;33m(\u001b[0m\u001b[0mself\u001b[0m\u001b[1;33m,\u001b[0m \u001b[0mlogits\u001b[0m\u001b[1;33m)\u001b[0m\u001b[1;33m:\u001b[0m\u001b[1;33m\u001b[0m\u001b[0m\n",
      "\u001b[1;32m~\\AppData\\Local\\Continuum\\anaconda3\\lib\\site-packages\\tensorflow\\contrib\\learn\\python\\learn\\estimators\\head.py\u001b[0m in \u001b[0;36m_softmax_cross_entropy_loss\u001b[1;34m(labels, logits, weights)\u001b[0m\n\u001b[0;32m    969\u001b[0m     \u001b[1;32mif\u001b[0m \u001b[1;32mnot\u001b[0m \u001b[0mlabels\u001b[0m\u001b[1;33m.\u001b[0m\u001b[0mdtype\u001b[0m\u001b[1;33m.\u001b[0m\u001b[0mis_integer\u001b[0m\u001b[1;33m:\u001b[0m\u001b[1;33m\u001b[0m\u001b[0m\n\u001b[0;32m    970\u001b[0m       raise ValueError(\"Labels dtype should be integer \"\n\u001b[1;32m--> 971\u001b[1;33m                        \"Instead got %s.\" % labels.dtype)\n\u001b[0m\u001b[0;32m    972\u001b[0m \u001b[1;33m\u001b[0m\u001b[0m\n\u001b[0;32m    973\u001b[0m     \u001b[1;31m# sparse_softmax_cross_entropy_with_logits requires [batch_size] labels.\u001b[0m\u001b[1;33m\u001b[0m\u001b[1;33m\u001b[0m\u001b[0m\n",
      "\u001b[1;31mValueError\u001b[0m: Labels dtype should be integer Instead got <dtype: 'string'>."
     ]
    }
   ],
   "source": [
    "messages_bow = bow_transformer.transform(msg_train['newText'])\n",
    "tfidf_transformer = TfidfTransformer().fit(messages_bow)\n",
    "messages_tfidf = tfidf_transformer.transform(messages_bow)\n",
    "\n",
    "X_train_dtm = messages_tfidf\n",
    "\n",
    "# messages_bow = bow_transformer.transform(msg_test['newText'])\n",
    "# messages_tfidf = tfidf_transformer.transform(messages_bow)\n",
    "# d1 = msg_test.iloc[:,1:]\n",
    "# d1 = scipy.sparse.csr_matrix(d1.values)\n",
    "# X_train_dtm = hstack((messages_tfidf,d1))\n",
    "\n",
    "\n",
    "# all_predictions = testmodel.predict(X_train_dtm)\n",
    "\n",
    "\n",
    "classifier.fit(X_train_dtm, label_train)"
   ]
  },
  {
   "cell_type": "code",
   "execution_count": 41,
   "metadata": {},
   "outputs": [
    {
     "data": {
      "text/plain": [
       "<25443x1000 sparse matrix of type '<class 'numpy.float64'>'\n",
       "\twith 798840 stored elements in Compressed Sparse Row format>"
      ]
     },
     "execution_count": 41,
     "metadata": {},
     "output_type": "execute_result"
    }
   ],
   "source": [
    "X_train_dtm"
   ]
  },
  {
   "cell_type": "code",
   "execution_count": 18,
   "metadata": {},
   "outputs": [],
   "source": [
    "# messages_bow = bow_transformer.transform(msg_train['newText'])\n",
    "# tfidf_transformer = TfidfTransformer().fit(messages_bow)\n",
    "# messages_tfidf = tfidf_transformer.transform(messages_bow)\n",
    "# d1 = msg_train.iloc[:,1:]\n",
    "# d1 =scipy.sparse.csr_matrix(d1.values)\n",
    "# X_train_dtm = hstack((messages_tfidf,d1))\n",
    "\n",
    "# from sklearn.model_selection import GridSearchCV\n",
    "# param_grid = { \n",
    "#     'n_estimators': [30,100,110],\n",
    "#     'max_features': ['auto', 'sqrt', 'log2'],\n",
    "#     \"min_samples_split\": [15, 20],\n",
    "#     \"min_samples_leaf\": [5, 10, 20],\n",
    "#     \"criterion\": ['gini', 'entropy']\n",
    "# }\n",
    "\n",
    "\n",
    "# CV_rfc = GridSearchCV(estimator=RandomForestClassifier(), param_grid=param_grid, cv= 5)\n",
    "# CV_rfc.fit(X_train_dtm, label_train)"
   ]
  },
  {
   "cell_type": "code",
   "execution_count": 37,
   "metadata": {},
   "outputs": [],
   "source": [
    "messages_bow = bow_transformer.transform(msg_train['newText'])\n",
    "tfidf_transformer = TfidfTransformer().fit(messages_bow)\n",
    "messages_tfidf = tfidf_transformer.transform(messages_bow)\n",
    "d1 = msg_train.iloc[:,1:]\n",
    "d1 =scipy.sparse.csr_matrix(d1.values)\n",
    "X_train_dtm = hstack((messages_tfidf,d1))\n",
    "#  %time testmodel = GradientBoostingClassifier(learning_rate=0.01, n_estimators=100,verbose=1).fit(X_train_dtm, label_train)\n",
    "# testmodel = RandomForestClassifier(n_estimators=100,verbose=1,n_jobs=2).fit(X_train_dtm, label_train)\n",
    "testmodel = LinearSVC().fit(X_train_dtm, label_train)\n",
    "\n",
    "messages_bow = bow_transformer.transform(msg_test['newText'])\n",
    "messages_tfidf = tfidf_transformer.transform(messages_bow)\n",
    "d1 = msg_test.iloc[:,1:]\n",
    "d1 = scipy.sparse.csr_matrix(d1.values)\n",
    "X_train_dtm = hstack((messages_tfidf,d1))\n",
    "\n",
    "\n",
    "all_predictions = testmodel.predict(X_train_dtm)\n"
   ]
  },
  {
   "cell_type": "code",
   "execution_count": 38,
   "metadata": {},
   "outputs": [
    {
     "name": "stdout",
     "output_type": "stream",
     "text": [
      "                                                                         precision    recall  f1-score   support\n",
      "\n",
      "                                        5 Classifications of Loans - OF       0.25      0.12      0.17         8\n",
      "                                                              AOCI - OF       0.50      0.14      0.22         7\n",
      "                                                      Access Lines - OF       0.50      1.00      0.67         1\n",
      "                             Accounts Payable and Accrued Expenses - OF       0.80      0.89      0.84         9\n",
      "                                  Accumulated Comprehensive Income - OF       0.62      0.50      0.55        36\n",
      "                                         Allowance for Loan Losses - OF       0.35      0.25      0.29        32\n",
      "                                             Appendix 5B Cash Flow - OF       0.94      1.00      0.97        16\n",
      "                                              Asset Maturity Table - OF       0.32      0.26      0.29        27\n",
      "                                                          Asset Quality       0.50      0.43      0.46         7\n",
      "                                                     Asset Quality - OF       0.78      0.61      0.69        95\n",
      "                                        Asset Quality by Loan Type - OF       0.83      0.79      0.81        62\n",
      "                                 Asset/Liability Maturity Analysis - OF       0.68      0.86      0.76        64\n",
      "                                           Assets Under Management - OF       1.00      0.25      0.40         4\n",
      "                                             Assets-Amortised Cost - OF       0.67      0.40      0.50         5\n",
      "                                         Assets-Available for Sale - OF       0.54      0.70      0.61        40\n",
      "                          Assets-Fair Value through Profit or Loss - OF       0.46      0.43      0.44        14\n",
      "                                                    Assets-Trading - OF       0.42      0.22      0.29        23\n",
      "                                             Average Balance Sheet - OF       0.92      0.95      0.94       103\n",
      "                                                  Average Deposits - OF       0.82      0.56      0.67        16\n",
      "                                                           Backlog - OF       0.00      0.00      0.00         0\n",
      "                                                          Balance Sheet       0.86      0.97      0.91       741\n",
      "                                                    Borrowed Funds - OF       0.75      0.78      0.77        23\n",
      "                                      Brazil GAAP Income Statement - OF       1.00      0.50      0.67         2\n",
      "                                    Cable/Satellite Reported Items - OF       1.00      0.50      0.67         2\n",
      "                                                       Capital Adequacy       0.70      0.89      0.78        99\n",
      "                                                    Capital Leases - OF       0.50      0.40      0.44        10\n",
      "                                                              Cash Flow       0.96      0.98      0.97       363\n",
      "                                         Cash and Cash Equivalents - OF       0.84      0.84      0.84        31\n",
      "                                 Change in FV of Trading Contracts - OF       1.00      0.57      0.73         7\n",
      "                                   Change in Investment Properties - OF       0.82      0.64      0.72        14\n",
      "                                                    Change in PP&E - OF       0.00      0.00      0.00         3\n",
      "                              Changes in Allowance for Loan Losses - OF       0.83      0.95      0.89       135\n",
      "                                Changes in Assets Under Management - OF       0.25      1.00      0.40         1\n",
      "                                     Changes in Residual Interests - OF       0.00      0.00      0.00         1\n",
      "                                    Changes in Statement of Equity - OF       0.70      0.80      0.74        44\n",
      "                                                   Claims Reserves - OF       0.79      0.71      0.75        21\n",
      "                                       Classified/Criticized Loans - OF       0.89      0.83      0.86        48\n",
      "                                              Comprehensive Income - OF       0.71      0.81      0.76        98\n",
      "                                                Contractual Obligations       0.80      0.36      0.50        11\n",
      "                                           Contractual Obligations - OF       0.59      0.91      0.71        11\n",
      "                                                 Cost of Good Sold - OF       0.00      0.00      0.00         3\n",
      "                                               Current Liabilities - OF       0.00      0.00      0.00         1\n",
      "                                                   Debt Maturities - OF       0.31      0.19      0.24        26\n",
      "                                 Deferred Policy Acquisition Costs - OF       0.00      0.00      0.00         0\n",
      "                                               Deferred Tax Assets - OF       0.81      0.94      0.87        18\n",
      "                                                 Deposit Breakouts - OF       0.65      0.76      0.70        72\n",
      "                                                    Deposit Composition       0.73      0.91      0.81        33\n",
      "                                              Derivative Financial - OF       0.00      0.00      0.00         5\n",
      "                                                       Derivatives - OF       0.82      0.92      0.87        50\n",
      "                                           Discontinued Operations - OF       0.62      1.00      0.77         5\n",
      "                                                            EBITDA - OF       0.00      0.00      0.00         5\n",
      "                                                      EBITDA/OIBDA - OF       0.14      0.12      0.13         8\n",
      "                                     EEV - European Embedded Value - OF       0.00      0.00      0.00         1\n",
      "                                                               EPS - OF       0.73      0.71      0.72        51\n",
      "                                            Earnings Balance Sheet - OF       1.00      0.08      0.14        13\n",
      "                                                Earnings Cash Flow - OF       0.00      0.00      0.00         3\n",
      "                                         Earnings Income Statement - OF       0.10      0.08      0.09        13\n",
      "                                                     Earnings Memo - OF       0.00      0.00      0.00         8\n",
      "                                        Earnings Summary Financial - OF       0.71      0.38      0.50        13\n",
      "                                                Earnings per Share - OF       0.88      0.90      0.89       112\n",
      "                                                    Embedded Value - OF       0.00      0.00      0.00         3\n",
      "                                    Embedded Value - Sensitivities - OF       0.00      0.00      0.00         3\n",
      "                                           Embedded Value Earnings - OF       0.00      0.00      0.00         2\n",
      "                                                             Expense-OF       0.13      0.10      0.11        21\n",
      "                                               Fair Value - Assets - OF       0.35      0.52      0.42        25\n",
      "                                          Fair Value - Liabilities - OF       0.00      0.00      0.00         5\n",
      "                                        Fair Value Measurement - Assets       0.85      0.92      0.88       121\n",
      "                                   Fair Value Measurement - Liabilities       0.00      0.00      0.00         3\n",
      "                                            Fair Value Measurement - OF       0.00      0.00      0.00         5\n",
      "                Fair Value/Carrying Value of Financial Instruments - OF       0.91      0.96      0.93        71\n",
      "                                       Fees and Commissions Income - OF       0.71      0.89      0.79        28\n",
      "                                                      Finance Cost - OF       0.42      0.62      0.50         8\n",
      "                                                    Finance Income - OF       0.00      0.00      0.00         3\n",
      "                                              Financial Highlights - OF       0.52      0.45      0.48        84\n",
      "                                             Funds From Operations - OF       0.00      0.00      0.00         1\n",
      "                                                  Funds from Operations       0.74      0.83      0.78        24\n",
      "                                            Geographic Information - OF       0.60      0.75      0.67         4\n",
      "                                                  Held to Maturity - OF       0.69      0.65      0.67        17\n",
      "                                           Homebuilding Operations - OF       1.00      1.00      1.00         1\n",
      "                                                    Impaired Loans - OF       0.93      0.95      0.94        66\n",
      "                                                       Income Statement       0.84      0.93      0.88       700\n",
      "                                              Income Tax Provision - OF       0.76      0.89      0.82        35\n",
      "                                                 Intangible Assets - OF       0.51      0.61      0.56        33\n",
      "                                                   Intangible Assets-OF       0.62      0.62      0.62        16\n",
      "                                                  Interest Expense - OF       0.55      0.40      0.46        15\n",
      "                                                    Interest Expense-OF       0.77      0.67      0.71        15\n",
      "                                                   Interest Income - OF       0.64      0.81      0.71        31\n",
      "                                                       Inventories - OF       0.60      1.00      0.75         3\n",
      "                               Inventory, Film and Content Details - OF       0.00      0.00      0.00         2\n",
      "                                                 Investment Income - OF       0.31      0.21      0.25        19\n",
      "                                                       Investments - OF       0.66      0.80      0.72       119\n",
      "                                                         Investments-OF       0.25      0.06      0.10        16\n",
      "                                                Key Performance Metrics       0.00      0.00      0.00         0\n",
      "                                         Lease Expiration Schedule - OF       0.80      1.00      0.89         8\n",
      "                                        Liabilities Maturity Table - OF       0.40      0.29      0.33         7\n",
      "                                        Liabilities-Amortised Cost - OF       0.00      0.00      0.00         4\n",
      "                     Liabilities-Fair Value through Profit or Loss - OF       0.75      0.43      0.55         7\n",
      "                                               Liabilities-Trading - OF       1.00      0.33      0.50         6\n",
      "                                           Life Insurance in Force - OF       0.00      0.00      0.00         3\n",
      "                                                     Loan Breakout - OF       0.54      0.65      0.59       139\n",
      "                                                       Loan Composition       0.59      0.86      0.70        51\n",
      "                                  Loan Servicing/Managed Portfolio - OF       0.00      0.00      0.00         2\n",
      "                                      Loan and Finance Receivables - OF       0.00      0.00      0.00         0\n",
      "                                                 Loans by Currency - OF       0.00      0.00      0.00         2\n",
      "                                                 Loans by Industry - OF       0.65      0.61      0.63        18\n",
      "                                                 Loans by Maturity - OF       0.00      0.00      0.00         1\n",
      "                                                    Long-term Debt - OF       0.70      0.80      0.75        46\n",
      "                           MCEV - Market Consistent Embedded Value - OF       0.33      0.67      0.44         3\n",
      "                                                        Membership - OF       1.00      0.50      0.67         2\n",
      "                                                   Mine Production - IC       0.57      0.80      0.67         5\n",
      "                                           Mortgage Banking Income - OF       0.67      0.25      0.36         8\n",
      "                                                        Net Asset Value       0.75      0.75      0.75         4\n",
      "                                               Net Financing Costs - OF       0.67      0.36      0.47        11\n",
      "                                               Net Interest Income - OF       0.25      0.20      0.22        10\n",
      "                                                 Net Interest Income-OF       0.00      0.00      0.00         2\n",
      "                                             Net Operating Expense - OF       0.00      0.00      0.00         0\n",
      "                                                      Net Revenues - OF       0.00      0.00      0.00         1\n",
      "                                              Non-Interest Expense - OF       0.84      0.84      0.84        38\n",
      "                                               Non-Interest Income - OF       0.91      0.74      0.82        27\n",
      "                                              Nonperforming Assets - OF       0.38      0.33      0.35         9\n",
      "                                           Off Balance Sheet Items - OF       0.00      0.00      0.00         3\n",
      "                                                 Oil and Gas Wells - OF       0.00      0.00      0.00         0\n",
      "                                                  Operating Leases - OF       0.50      0.58      0.54        12\n",
      "                                                 Operating Revenue - OF       0.30      0.29      0.29        21\n",
      "                                       Operating Revenue MediaComm - OF       0.50      0.44      0.47         9\n",
      "                                               Operational Results - OF       0.31      0.29      0.30        17\n",
      "                                   Options Outstanding/Exercisable - OF       0.50      0.60      0.55         5\n",
      "                                               Other Asset Quality - OF       1.00      1.00      1.00         1\n",
      "                                                      Other Assets - OF       0.38      0.21      0.27       146\n",
      "                                                        Other Assets-OF       0.39      0.27      0.31       139\n",
      "                                              Other Current Assets - OF       0.80      0.33      0.47        12\n",
      "                                         Other Current Liabilities - OF       0.00      0.00      0.00         1\n",
      "                                                   Other Financial - OF       0.00      0.00      0.00        12\n",
      "                                            Other Income (Expense) - OF       0.45      0.45      0.45       210\n",
      "                                                      Other Income - OF       0.00      0.00      0.00         4\n",
      "                                                 Other Liabilities - OF       0.56      0.62      0.59        52\n",
      "                                                   Other Liabilities-OF       0.32      0.26      0.29        53\n",
      "                                       Other Non-Operating  Income - OF       0.40      0.33      0.36         6\n",
      "                                       Other Non-Operating Expense - OF       0.00      0.00      0.00         3\n",
      "                                           Other Noncurrent Assets - OF       0.00      0.00      0.00         4\n",
      "                                      Other Noncurrent Liabilities - OF       0.00      0.00      0.00         2\n",
      "                              Other Operating Cash Flow Activities - OF       0.64      0.64      0.64        11\n",
      "                                           Other Operating Expense - OF       0.00      0.00      0.00         5\n",
      "                                            Other Operating Income - OF       0.00      0.00      0.00         3\n",
      "                                                        P & C Data - OF       0.00      0.00      0.00         1\n",
      "                                               Parent Company Only - OF       0.50      0.14      0.22         7\n",
      "                                         Pension Asset Allocations - OF       0.00      0.00      0.00         5\n",
      "                   Pension and Other Postretirement Benefits Costs - OF       0.82      0.88      0.85        60\n",
      "             Pension and Other Postretirement Benefits Obligations - OF       0.62      0.61      0.61        38\n",
      "        Pension and Other Postretirement Benefits Payment Schedule - OF       0.80      0.94      0.86        17\n",
      "            Pension and Other Postretirement Rates and Assumptions - OF       0.56      0.91      0.69        11\n",
      "                                           Planned Capital Expenditures       0.57      0.57      0.57         7\n",
      "                                                   Production Data - OF       0.56      0.71      0.63         7\n",
      "                                  Programming Contract Obligations - OF       0.00      0.00      0.00         2\n",
      "                                            Property and Equipment - OF       0.81      0.87      0.84        55\n",
      "                                         Provision for Loan Losses - OF       0.36      0.26      0.30        31\n",
      "                                Ratio of Earnings to Fixed Charges - OF       1.00      1.00      1.00         4\n",
      "                                                    Realized Gains - OF       0.71      0.62      0.67         8\n",
      "Receivables From and Payable to Brokers and Clearing Organizations - OF       0.00      0.00      0.00         1\n",
      "                                     Reclassified Income Statement - OF       1.00      0.50      0.67         2\n",
      "                                           Regulatory Capital Data - OF       0.90      0.88      0.89        83\n",
      "                                                       Reinsurance - OF       0.41      0.64      0.50        11\n",
      "                                                     Rent Schedule - OF       1.00      0.25      0.40         4\n",
      "                                         Rental Income and Expense - OF       0.25      0.26      0.26        42\n",
      "                                              Reserves & Resources - IC       0.75      1.00      0.86         3\n",
      "                                                Reserves and Production       0.00      0.00      0.00         1\n",
      "                                       Return on Equity and Assets - OF       0.83      0.50      0.62        10\n",
      "                                                           Revenue - OF       0.33      0.12      0.18         8\n",
      "                                             Risk Management Activities       0.85      0.88      0.87        26\n",
      "                                                        ST/LT Debt - OF       0.25      0.22      0.24         9\n",
      "                                                   Same Store Data - OF       0.73      0.80      0.76        10\n",
      "                                      Same Store Supplemental Data - OF       0.00      0.00      0.00         2\n",
      "                                         Scheduled Debt Maturities - OF       0.60      0.71      0.65        38\n",
      "                                                       Securities Owned       0.91      0.59      0.71        17\n",
      "                                                  Securities Owned - OF       0.50      0.25      0.33         4\n",
      "                                Securities Sold, Not Yet Purchased - OF       0.00      0.00      0.00         1\n",
      "                                           Segment Income Statement- OF       1.00      0.30      0.46        10\n",
      "                                                          Segments - OF       0.31      0.42      0.35        26\n",
      "                              Selected Consolidated Financial Data - OF       0.76      0.69      0.72        54\n",
      "                                     Selling, General & Admin. Exp - OF       0.00      0.00      0.00         3\n",
      "                                                     Share Capital - OF       0.38      0.21      0.27        14\n",
      "                                             Share Repurchase Plan - OF       0.93      0.96      0.95        45\n",
      "                                                          Solvency - OF       0.68      0.75      0.71        20\n",
      "                                             Source Tagging Lite - MMIC       0.87      0.97      0.92        34\n",
      "                          Statement of Recognised Gains and Losses - OF       0.48      0.56      0.51        18\n",
      "                                                    Statutory Data - OF       1.00      0.67      0.80         3\n",
      "                                      Stock-Based Comp Assumptions - OF       0.90      0.95      0.92        38\n",
      "                                          Stock-Based Compensation - OF       0.00      0.00      0.00         3\n",
      "                                              Stockholders' Equity - OF       0.60      0.60      0.60         5\n",
      "                                                 Subordinated Debt - OF       0.40      0.17      0.24        12\n",
      "                                                       Subscribers - OF       0.00      0.00      0.00         1\n",
      "                                         Summarized Quarterly Data - OF       0.71      0.68      0.70        73\n",
      "                                            Supplemental Cash Flow - OF       0.82      0.45      0.58        20\n",
      "                                     Supplemental Income Statement - OF       0.83      0.50      0.62        10\n",
      "                                         Supplemental Segment Data - OF       0.00      0.00      0.00         1\n",
      "                                           TV Broadcasting Details - OF       0.00      0.00      0.00         1\n",
      "                                                     Time Deposits - OF       0.53      0.77      0.62        13\n",
      "                                       Trade and other receivables - OF       0.00      0.00      0.00         1\n",
      "                                                    Trading Volume - OF       0.00      0.00      0.00         1\n",
      "                                      Unconsolidated Asset Quality - OF       0.46      0.75      0.57         8\n",
      "                  Unconsolidated Asset/Liability Maturity Analysis - OF       0.00      0.00      0.00         5\n",
      "                              Unconsolidated Average Balance Sheet - OF       0.00      0.00      0.00         3\n",
      "                                      Unconsolidated Balance Sheet - OF       0.50      0.06      0.11        17\n",
      "                                   Unconsolidated Capital Adequacy - OF       1.00      0.08      0.15        12\n",
      "                                   Unconsolidated Income Statement - OF       0.83      0.25      0.38        20\n",
      "                                  Unconsolidated Loans by Industry - OF       1.00      0.40      0.57         5\n",
      "                                       Unconsolidated Other Assets - OF       0.00      0.00      0.00         6\n",
      "                             Unconsolidated Other Income (Expense) - OF       0.00      0.00      0.00         3\n",
      "                                  Unconsolidated Other Liabilities - OF       0.00      0.00      0.00         4\n",
      "                            Unconsolidated Partnership Information – OF       0.50      0.25      0.33         8\n",
      "                   Unconsolidated Risk-Monitored Loans by Industry - OF       0.00      0.00      0.00         2\n",
      "                      Unconsolidated Supplemental Income Statement - OF       0.80      0.57      0.67         7\n",
      "                                           Underwriting Operations - OF       0.67      0.50      0.57         8\n",
      "                                                     Value at Risk - OF       0.00      0.00      0.00         1\n",
      "                                           Wireless Reported Items - OF       0.00      0.00      0.00         2\n",
      "                                           Wireline Reported Items - OF       0.00      0.00      0.00         1\n",
      "\n",
      "                                                            avg / total       0.70      0.72      0.70      6361\n",
      "\n"
     ]
    },
    {
     "name": "stderr",
     "output_type": "stream",
     "text": [
      "C:\\Users\\bryan_tran\\AppData\\Local\\Continuum\\anaconda3\\lib\\site-packages\\sklearn\\metrics\\classification.py:1135: UndefinedMetricWarning: Precision and F-score are ill-defined and being set to 0.0 in labels with no predicted samples.\n",
      "  'precision', 'predicted', average, warn_for)\n",
      "C:\\Users\\bryan_tran\\AppData\\Local\\Continuum\\anaconda3\\lib\\site-packages\\sklearn\\metrics\\classification.py:1137: UndefinedMetricWarning: Recall and F-score are ill-defined and being set to 0.0 in labels with no true samples.\n",
      "  'recall', 'true', average, warn_for)\n"
     ]
    }
   ],
   "source": [
    "print (classification_report(label_test, all_predictions))"
   ]
  },
  {
   "cell_type": "code",
   "execution_count": 47,
   "metadata": {},
   "outputs": [
    {
     "data": {
      "text/plain": [
       "0.7167112089294136"
      ]
     },
     "execution_count": 47,
     "metadata": {},
     "output_type": "execute_result"
    }
   ],
   "source": [
    "accuracy_score(label_test, all_predictions)"
   ]
  },
  {
   "cell_type": "code",
   "execution_count": 44,
   "metadata": {},
   "outputs": [],
   "source": [
    "def predict_table(clf,text_features,eval_param,N_tables=10):\n",
    "   \n",
    "    if eval_param==0:\n",
    "        return(pd.DataFrame({\"class_label\":clf.predict(text_features).tolist()}))\n",
    "    \n",
    "    if eval_param==1:\n",
    "        dfres=pd.DataFrame({\"pred_prob\":clf.predict_proba(text_features)[0].tolist(),\\\n",
    "                            \"class_label\":clf.classes_.tolist()}).sort_values(\"pred_prob\",ascending=False)\n",
    "        return(dfres.iloc[:N_tables])\n",
    "    \n",
    "    if eval_param==2:\n",
    "        dfres=pd.DataFrame({\"pred_prob\":clf.predict_proba(text_features)[0].tolist(),\\\n",
    "                            \"class_label\":clf.classes_.tolist()}).sort_values(\"pred_prob\",ascending=False)\n",
    "        return(dfres)\n",
    "    "
   ]
  },
  {
   "cell_type": "code",
   "execution_count": 8,
   "metadata": {},
   "outputs": [],
   "source": []
  },
  {
   "cell_type": "code",
   "execution_count": 9,
   "metadata": {},
   "outputs": [
    {
     "data": {
      "text/plain": [
       "(RandomForestClassifier(bootstrap=True, class_weight=None, criterion='gini',\n",
       "             max_depth=None, max_features='auto', max_leaf_nodes=None,\n",
       "             min_impurity_decrease=0.0, min_impurity_split=None,\n",
       "             min_samples_leaf=1, min_samples_split=2,\n",
       "             min_weight_fraction_leaf=0.0, n_estimators=100, n_jobs=-1,\n",
       "             oob_score=False, random_state=None, verbose=1,\n",
       "             warm_start=False),\n",
       " <6361x5171 sparse matrix of type '<class 'numpy.float64'>'\n",
       " \twith 223342 stored elements in COOrdinate format>,\n",
       " 1)"
      ]
     },
     "execution_count": 9,
     "metadata": {},
     "output_type": "execute_result"
    }
   ],
   "source": [
    "dftable"
   ]
  },
  {
   "cell_type": "code",
   "execution_count": 45,
   "metadata": {},
   "outputs": [
    {
     "name": "stdout",
     "output_type": "stream",
     "text": [
      "INFO:tensorflow:Using default config.\n",
      "WARNING:tensorflow:Using temporary folder as model directory: C:\\Users\\BRYAN_~1\\AppData\\Local\\Temp\\tmpocp0v1ys\n",
      "INFO:tensorflow:Using config: {'_task_type': None, '_task_id': 0, '_cluster_spec': <tensorflow.python.training.server_lib.ClusterSpec object at 0x00000028814B19E8>, '_master': '', '_num_ps_replicas': 0, '_num_worker_replicas': 0, '_environment': 'local', '_is_chief': True, '_evaluation_master': '', '_train_distribute': None, '_device_fn': None, '_tf_config': gpu_options {\n",
      "  per_process_gpu_memory_fraction: 1\n",
      "}\n",
      ", '_tf_random_seed': None, '_save_summary_steps': 100, '_save_checkpoints_secs': 600, '_log_step_count_steps': 100, '_session_config': None, '_save_checkpoints_steps': None, '_keep_checkpoint_max': 5, '_keep_checkpoint_every_n_hours': 10000, '_model_dir': 'C:\\\\Users\\\\BRYAN_~1\\\\AppData\\\\Local\\\\Temp\\\\tmpocp0v1ys'}\n",
      "WARNING:tensorflow:float64 is not supported by many models, consider casting to float32.\n"
     ]
    },
    {
     "ename": "ValueError",
     "evalue": "Labels dtype should be integer Instead got <dtype: 'string'>.",
     "output_type": "error",
     "traceback": [
      "\u001b[1;31m---------------------------------------------------------------------------\u001b[0m",
      "\u001b[1;31mValueError\u001b[0m                                Traceback (most recent call last)",
      "\u001b[1;32m<timed eval>\u001b[0m in \u001b[0;36m<module>\u001b[1;34m()\u001b[0m\n",
      "\u001b[1;32m~\\AppData\\Local\\Continuum\\anaconda3\\lib\\site-packages\\sklearn\\pipeline.py\u001b[0m in \u001b[0;36mfit\u001b[1;34m(self, X, y, **fit_params)\u001b[0m\n\u001b[0;32m    248\u001b[0m         \u001b[0mXt\u001b[0m\u001b[1;33m,\u001b[0m \u001b[0mfit_params\u001b[0m \u001b[1;33m=\u001b[0m \u001b[0mself\u001b[0m\u001b[1;33m.\u001b[0m\u001b[0m_fit\u001b[0m\u001b[1;33m(\u001b[0m\u001b[0mX\u001b[0m\u001b[1;33m,\u001b[0m \u001b[0my\u001b[0m\u001b[1;33m,\u001b[0m \u001b[1;33m**\u001b[0m\u001b[0mfit_params\u001b[0m\u001b[1;33m)\u001b[0m\u001b[1;33m\u001b[0m\u001b[0m\n\u001b[0;32m    249\u001b[0m         \u001b[1;32mif\u001b[0m \u001b[0mself\u001b[0m\u001b[1;33m.\u001b[0m\u001b[0m_final_estimator\u001b[0m \u001b[1;32mis\u001b[0m \u001b[1;32mnot\u001b[0m \u001b[1;32mNone\u001b[0m\u001b[1;33m:\u001b[0m\u001b[1;33m\u001b[0m\u001b[0m\n\u001b[1;32m--> 250\u001b[1;33m             \u001b[0mself\u001b[0m\u001b[1;33m.\u001b[0m\u001b[0m_final_estimator\u001b[0m\u001b[1;33m.\u001b[0m\u001b[0mfit\u001b[0m\u001b[1;33m(\u001b[0m\u001b[0mXt\u001b[0m\u001b[1;33m,\u001b[0m \u001b[0my\u001b[0m\u001b[1;33m,\u001b[0m \u001b[1;33m**\u001b[0m\u001b[0mfit_params\u001b[0m\u001b[1;33m)\u001b[0m\u001b[1;33m\u001b[0m\u001b[0m\n\u001b[0m\u001b[0;32m    251\u001b[0m         \u001b[1;32mreturn\u001b[0m \u001b[0mself\u001b[0m\u001b[1;33m\u001b[0m\u001b[0m\n\u001b[0;32m    252\u001b[0m \u001b[1;33m\u001b[0m\u001b[0m\n",
      "\u001b[1;32m~\\AppData\\Local\\Continuum\\anaconda3\\lib\\site-packages\\tensorflow\\python\\util\\deprecation.py\u001b[0m in \u001b[0;36mnew_func\u001b[1;34m(*args, **kwargs)\u001b[0m\n\u001b[0;32m    430\u001b[0m                 \u001b[1;34m'in a future version'\u001b[0m \u001b[1;32mif\u001b[0m \u001b[0mdate\u001b[0m \u001b[1;32mis\u001b[0m \u001b[1;32mNone\u001b[0m \u001b[1;32melse\u001b[0m \u001b[1;33m(\u001b[0m\u001b[1;34m'after %s'\u001b[0m \u001b[1;33m%\u001b[0m \u001b[0mdate\u001b[0m\u001b[1;33m)\u001b[0m\u001b[1;33m,\u001b[0m\u001b[1;33m\u001b[0m\u001b[0m\n\u001b[0;32m    431\u001b[0m                 instructions)\n\u001b[1;32m--> 432\u001b[1;33m       \u001b[1;32mreturn\u001b[0m \u001b[0mfunc\u001b[0m\u001b[1;33m(\u001b[0m\u001b[1;33m*\u001b[0m\u001b[0margs\u001b[0m\u001b[1;33m,\u001b[0m \u001b[1;33m**\u001b[0m\u001b[0mkwargs\u001b[0m\u001b[1;33m)\u001b[0m\u001b[1;33m\u001b[0m\u001b[0m\n\u001b[0m\u001b[0;32m    433\u001b[0m     return tf_decorator.make_decorator(func, new_func, 'deprecated',\n\u001b[0;32m    434\u001b[0m                                        _add_deprecated_arg_notice_to_docstring(\n",
      "\u001b[1;32m~\\AppData\\Local\\Continuum\\anaconda3\\lib\\site-packages\\tensorflow\\contrib\\learn\\python\\learn\\estimators\\estimator.py\u001b[0m in \u001b[0;36mfit\u001b[1;34m(self, x, y, input_fn, steps, batch_size, monitors, max_steps)\u001b[0m\n\u001b[0;32m    506\u001b[0m     \u001b[0m_verify_input_args\u001b[0m\u001b[1;33m(\u001b[0m\u001b[0mx\u001b[0m\u001b[1;33m,\u001b[0m \u001b[0my\u001b[0m\u001b[1;33m,\u001b[0m \u001b[0minput_fn\u001b[0m\u001b[1;33m,\u001b[0m \u001b[1;32mNone\u001b[0m\u001b[1;33m,\u001b[0m \u001b[0mbatch_size\u001b[0m\u001b[1;33m)\u001b[0m\u001b[1;33m\u001b[0m\u001b[0m\n\u001b[0;32m    507\u001b[0m     \u001b[1;32mif\u001b[0m \u001b[0mx\u001b[0m \u001b[1;32mis\u001b[0m \u001b[1;32mnot\u001b[0m \u001b[1;32mNone\u001b[0m\u001b[1;33m:\u001b[0m\u001b[1;33m\u001b[0m\u001b[0m\n\u001b[1;32m--> 508\u001b[1;33m       \u001b[0mSKCompat\u001b[0m\u001b[1;33m(\u001b[0m\u001b[0mself\u001b[0m\u001b[1;33m)\u001b[0m\u001b[1;33m.\u001b[0m\u001b[0mfit\u001b[0m\u001b[1;33m(\u001b[0m\u001b[0mx\u001b[0m\u001b[1;33m,\u001b[0m \u001b[0my\u001b[0m\u001b[1;33m,\u001b[0m \u001b[0mbatch_size\u001b[0m\u001b[1;33m,\u001b[0m \u001b[0msteps\u001b[0m\u001b[1;33m,\u001b[0m \u001b[0mmax_steps\u001b[0m\u001b[1;33m,\u001b[0m \u001b[0mmonitors\u001b[0m\u001b[1;33m)\u001b[0m\u001b[1;33m\u001b[0m\u001b[0m\n\u001b[0m\u001b[0;32m    509\u001b[0m       \u001b[1;32mreturn\u001b[0m \u001b[0mself\u001b[0m\u001b[1;33m\u001b[0m\u001b[0m\n\u001b[0;32m    510\u001b[0m \u001b[1;33m\u001b[0m\u001b[0m\n",
      "\u001b[1;32m~\\AppData\\Local\\Continuum\\anaconda3\\lib\\site-packages\\tensorflow\\contrib\\learn\\python\\learn\\estimators\\estimator.py\u001b[0m in \u001b[0;36mfit\u001b[1;34m(self, x, y, batch_size, steps, max_steps, monitors)\u001b[0m\n\u001b[0;32m   1525\u001b[0m         \u001b[0msteps\u001b[0m\u001b[1;33m=\u001b[0m\u001b[0msteps\u001b[0m\u001b[1;33m,\u001b[0m\u001b[1;33m\u001b[0m\u001b[0m\n\u001b[0;32m   1526\u001b[0m         \u001b[0mmax_steps\u001b[0m\u001b[1;33m=\u001b[0m\u001b[0mmax_steps\u001b[0m\u001b[1;33m,\u001b[0m\u001b[1;33m\u001b[0m\u001b[0m\n\u001b[1;32m-> 1527\u001b[1;33m         monitors=all_monitors)\n\u001b[0m\u001b[0;32m   1528\u001b[0m     \u001b[1;32mreturn\u001b[0m \u001b[0mself\u001b[0m\u001b[1;33m\u001b[0m\u001b[0m\n\u001b[0;32m   1529\u001b[0m \u001b[1;33m\u001b[0m\u001b[0m\n",
      "\u001b[1;32m~\\AppData\\Local\\Continuum\\anaconda3\\lib\\site-packages\\tensorflow\\python\\util\\deprecation.py\u001b[0m in \u001b[0;36mnew_func\u001b[1;34m(*args, **kwargs)\u001b[0m\n\u001b[0;32m    430\u001b[0m                 \u001b[1;34m'in a future version'\u001b[0m \u001b[1;32mif\u001b[0m \u001b[0mdate\u001b[0m \u001b[1;32mis\u001b[0m \u001b[1;32mNone\u001b[0m \u001b[1;32melse\u001b[0m \u001b[1;33m(\u001b[0m\u001b[1;34m'after %s'\u001b[0m \u001b[1;33m%\u001b[0m \u001b[0mdate\u001b[0m\u001b[1;33m)\u001b[0m\u001b[1;33m,\u001b[0m\u001b[1;33m\u001b[0m\u001b[0m\n\u001b[0;32m    431\u001b[0m                 instructions)\n\u001b[1;32m--> 432\u001b[1;33m       \u001b[1;32mreturn\u001b[0m \u001b[0mfunc\u001b[0m\u001b[1;33m(\u001b[0m\u001b[1;33m*\u001b[0m\u001b[0margs\u001b[0m\u001b[1;33m,\u001b[0m \u001b[1;33m**\u001b[0m\u001b[0mkwargs\u001b[0m\u001b[1;33m)\u001b[0m\u001b[1;33m\u001b[0m\u001b[0m\n\u001b[0m\u001b[0;32m    433\u001b[0m     return tf_decorator.make_decorator(func, new_func, 'deprecated',\n\u001b[0;32m    434\u001b[0m                                        _add_deprecated_arg_notice_to_docstring(\n",
      "\u001b[1;32m~\\AppData\\Local\\Continuum\\anaconda3\\lib\\site-packages\\tensorflow\\contrib\\learn\\python\\learn\\estimators\\estimator.py\u001b[0m in \u001b[0;36mfit\u001b[1;34m(self, x, y, input_fn, steps, batch_size, monitors, max_steps)\u001b[0m\n\u001b[0;32m    522\u001b[0m       \u001b[0mhooks\u001b[0m\u001b[1;33m.\u001b[0m\u001b[0mappend\u001b[0m\u001b[1;33m(\u001b[0m\u001b[0mbasic_session_run_hooks\u001b[0m\u001b[1;33m.\u001b[0m\u001b[0mStopAtStepHook\u001b[0m\u001b[1;33m(\u001b[0m\u001b[0msteps\u001b[0m\u001b[1;33m,\u001b[0m \u001b[0mmax_steps\u001b[0m\u001b[1;33m)\u001b[0m\u001b[1;33m)\u001b[0m\u001b[1;33m\u001b[0m\u001b[0m\n\u001b[0;32m    523\u001b[0m \u001b[1;33m\u001b[0m\u001b[0m\n\u001b[1;32m--> 524\u001b[1;33m     \u001b[0mloss\u001b[0m \u001b[1;33m=\u001b[0m \u001b[0mself\u001b[0m\u001b[1;33m.\u001b[0m\u001b[0m_train_model\u001b[0m\u001b[1;33m(\u001b[0m\u001b[0minput_fn\u001b[0m\u001b[1;33m=\u001b[0m\u001b[0minput_fn\u001b[0m\u001b[1;33m,\u001b[0m \u001b[0mhooks\u001b[0m\u001b[1;33m=\u001b[0m\u001b[0mhooks\u001b[0m\u001b[1;33m)\u001b[0m\u001b[1;33m\u001b[0m\u001b[0m\n\u001b[0m\u001b[0;32m    525\u001b[0m     \u001b[0mlogging\u001b[0m\u001b[1;33m.\u001b[0m\u001b[0minfo\u001b[0m\u001b[1;33m(\u001b[0m\u001b[1;34m'Loss for final step: %s.'\u001b[0m\u001b[1;33m,\u001b[0m \u001b[0mloss\u001b[0m\u001b[1;33m)\u001b[0m\u001b[1;33m\u001b[0m\u001b[0m\n\u001b[0;32m    526\u001b[0m     \u001b[1;32mreturn\u001b[0m \u001b[0mself\u001b[0m\u001b[1;33m\u001b[0m\u001b[0m\n",
      "\u001b[1;32m~\\AppData\\Local\\Continuum\\anaconda3\\lib\\site-packages\\tensorflow\\contrib\\learn\\python\\learn\\estimators\\estimator.py\u001b[0m in \u001b[0;36m_train_model\u001b[1;34m(self, input_fn, hooks)\u001b[0m\n\u001b[0;32m   1039\u001b[0m       \u001b[0mself\u001b[0m\u001b[1;33m.\u001b[0m\u001b[0m_check_inputs\u001b[0m\u001b[1;33m(\u001b[0m\u001b[0mfeatures\u001b[0m\u001b[1;33m,\u001b[0m \u001b[0mlabels\u001b[0m\u001b[1;33m)\u001b[0m\u001b[1;33m\u001b[0m\u001b[0m\n\u001b[0;32m   1040\u001b[0m       \u001b[0mtraining_util\u001b[0m\u001b[1;33m.\u001b[0m\u001b[0m_get_or_create_global_step_read\u001b[0m\u001b[1;33m(\u001b[0m\u001b[1;33m)\u001b[0m  \u001b[1;31m# pylint: disable=protected-access\u001b[0m\u001b[1;33m\u001b[0m\u001b[0m\n\u001b[1;32m-> 1041\u001b[1;33m       \u001b[0mmodel_fn_ops\u001b[0m \u001b[1;33m=\u001b[0m \u001b[0mself\u001b[0m\u001b[1;33m.\u001b[0m\u001b[0m_get_train_ops\u001b[0m\u001b[1;33m(\u001b[0m\u001b[0mfeatures\u001b[0m\u001b[1;33m,\u001b[0m \u001b[0mlabels\u001b[0m\u001b[1;33m)\u001b[0m\u001b[1;33m\u001b[0m\u001b[0m\n\u001b[0m\u001b[0;32m   1042\u001b[0m       \u001b[0mops\u001b[0m\u001b[1;33m.\u001b[0m\u001b[0madd_to_collection\u001b[0m\u001b[1;33m(\u001b[0m\u001b[0mops\u001b[0m\u001b[1;33m.\u001b[0m\u001b[0mGraphKeys\u001b[0m\u001b[1;33m.\u001b[0m\u001b[0mLOSSES\u001b[0m\u001b[1;33m,\u001b[0m \u001b[0mmodel_fn_ops\u001b[0m\u001b[1;33m.\u001b[0m\u001b[0mloss\u001b[0m\u001b[1;33m)\u001b[0m\u001b[1;33m\u001b[0m\u001b[0m\n\u001b[0;32m   1043\u001b[0m       \u001b[0mall_hooks\u001b[0m\u001b[1;33m.\u001b[0m\u001b[0mextend\u001b[0m\u001b[1;33m(\u001b[0m\u001b[0mhooks\u001b[0m\u001b[1;33m)\u001b[0m\u001b[1;33m\u001b[0m\u001b[0m\n",
      "\u001b[1;32m~\\AppData\\Local\\Continuum\\anaconda3\\lib\\site-packages\\tensorflow\\contrib\\learn\\python\\learn\\estimators\\estimator.py\u001b[0m in \u001b[0;36m_get_train_ops\u001b[1;34m(self, features, labels)\u001b[0m\n\u001b[0;32m   1262\u001b[0m       \u001b[0;31m`\u001b[0m\u001b[0mModelFnOps\u001b[0m\u001b[0;31m`\u001b[0m \u001b[0mobject\u001b[0m\u001b[1;33m.\u001b[0m\u001b[1;33m\u001b[0m\u001b[0m\n\u001b[0;32m   1263\u001b[0m     \"\"\"\n\u001b[1;32m-> 1264\u001b[1;33m     \u001b[1;32mreturn\u001b[0m \u001b[0mself\u001b[0m\u001b[1;33m.\u001b[0m\u001b[0m_call_model_fn\u001b[0m\u001b[1;33m(\u001b[0m\u001b[0mfeatures\u001b[0m\u001b[1;33m,\u001b[0m \u001b[0mlabels\u001b[0m\u001b[1;33m,\u001b[0m \u001b[0mmodel_fn_lib\u001b[0m\u001b[1;33m.\u001b[0m\u001b[0mModeKeys\u001b[0m\u001b[1;33m.\u001b[0m\u001b[0mTRAIN\u001b[0m\u001b[1;33m)\u001b[0m\u001b[1;33m\u001b[0m\u001b[0m\n\u001b[0m\u001b[0;32m   1265\u001b[0m \u001b[1;33m\u001b[0m\u001b[0m\n\u001b[0;32m   1266\u001b[0m   \u001b[1;32mdef\u001b[0m \u001b[0m_get_eval_ops\u001b[0m\u001b[1;33m(\u001b[0m\u001b[0mself\u001b[0m\u001b[1;33m,\u001b[0m \u001b[0mfeatures\u001b[0m\u001b[1;33m,\u001b[0m \u001b[0mlabels\u001b[0m\u001b[1;33m,\u001b[0m \u001b[0mmetrics\u001b[0m\u001b[1;33m)\u001b[0m\u001b[1;33m:\u001b[0m\u001b[1;33m\u001b[0m\u001b[0m\n",
      "\u001b[1;32m~\\AppData\\Local\\Continuum\\anaconda3\\lib\\site-packages\\tensorflow\\contrib\\learn\\python\\learn\\estimators\\estimator.py\u001b[0m in \u001b[0;36m_call_model_fn\u001b[1;34m(self, features, labels, mode, metrics, config)\u001b[0m\n\u001b[0;32m   1225\u001b[0m     \u001b[1;32mif\u001b[0m \u001b[1;34m'model_dir'\u001b[0m \u001b[1;32min\u001b[0m \u001b[0mmodel_fn_args\u001b[0m\u001b[1;33m:\u001b[0m\u001b[1;33m\u001b[0m\u001b[0m\n\u001b[0;32m   1226\u001b[0m       \u001b[0mkwargs\u001b[0m\u001b[1;33m[\u001b[0m\u001b[1;34m'model_dir'\u001b[0m\u001b[1;33m]\u001b[0m \u001b[1;33m=\u001b[0m \u001b[0mself\u001b[0m\u001b[1;33m.\u001b[0m\u001b[0mmodel_dir\u001b[0m\u001b[1;33m\u001b[0m\u001b[0m\n\u001b[1;32m-> 1227\u001b[1;33m     \u001b[0mmodel_fn_results\u001b[0m \u001b[1;33m=\u001b[0m \u001b[0mself\u001b[0m\u001b[1;33m.\u001b[0m\u001b[0m_model_fn\u001b[0m\u001b[1;33m(\u001b[0m\u001b[0mfeatures\u001b[0m\u001b[1;33m,\u001b[0m \u001b[0mlabels\u001b[0m\u001b[1;33m,\u001b[0m \u001b[1;33m**\u001b[0m\u001b[0mkwargs\u001b[0m\u001b[1;33m)\u001b[0m\u001b[1;33m\u001b[0m\u001b[0m\n\u001b[0m\u001b[0;32m   1228\u001b[0m \u001b[1;33m\u001b[0m\u001b[0m\n\u001b[0;32m   1229\u001b[0m     \u001b[1;32mif\u001b[0m \u001b[0misinstance\u001b[0m\u001b[1;33m(\u001b[0m\u001b[0mmodel_fn_results\u001b[0m\u001b[1;33m,\u001b[0m \u001b[0mmodel_fn_lib\u001b[0m\u001b[1;33m.\u001b[0m\u001b[0mModelFnOps\u001b[0m\u001b[1;33m)\u001b[0m\u001b[1;33m:\u001b[0m\u001b[1;33m\u001b[0m\u001b[0m\n",
      "\u001b[1;32m~\\AppData\\Local\\Continuum\\anaconda3\\lib\\site-packages\\tensorflow\\contrib\\learn\\python\\learn\\estimators\\dnn.py\u001b[0m in \u001b[0;36m_dnn_model_fn\u001b[1;34m(features, labels, mode, params, config)\u001b[0m\n\u001b[0;32m    212\u001b[0m         \u001b[0mlabels\u001b[0m\u001b[1;33m=\u001b[0m\u001b[0mlabels\u001b[0m\u001b[1;33m,\u001b[0m\u001b[1;33m\u001b[0m\u001b[0m\n\u001b[0;32m    213\u001b[0m         \u001b[0mtrain_op_fn\u001b[0m\u001b[1;33m=\u001b[0m\u001b[0m_train_op_fn\u001b[0m\u001b[1;33m,\u001b[0m\u001b[1;33m\u001b[0m\u001b[0m\n\u001b[1;32m--> 214\u001b[1;33m         logits=logits)\n\u001b[0m\u001b[0;32m    215\u001b[0m \u001b[1;33m\u001b[0m\u001b[0m\n\u001b[0;32m    216\u001b[0m \u001b[1;33m\u001b[0m\u001b[0m\n",
      "\u001b[1;32m~\\AppData\\Local\\Continuum\\anaconda3\\lib\\site-packages\\tensorflow\\contrib\\learn\\python\\learn\\estimators\\head.py\u001b[0m in \u001b[0;36mcreate_model_fn_ops\u001b[1;34m(self, features, mode, labels, train_op_fn, logits, logits_input, scope)\u001b[0m\n\u001b[0;32m   1083\u001b[0m           \u001b[0mhead_name\u001b[0m\u001b[1;33m=\u001b[0m\u001b[0mself\u001b[0m\u001b[1;33m.\u001b[0m\u001b[0mhead_name\u001b[0m\u001b[1;33m,\u001b[0m\u001b[1;33m\u001b[0m\u001b[0m\n\u001b[0;32m   1084\u001b[0m           \u001b[0mweight_column_name\u001b[0m\u001b[1;33m=\u001b[0m\u001b[0mself\u001b[0m\u001b[1;33m.\u001b[0m\u001b[0mweight_column_name\u001b[0m\u001b[1;33m,\u001b[0m\u001b[1;33m\u001b[0m\u001b[0m\n\u001b[1;32m-> 1085\u001b[1;33m           enable_centered_bias=self._enable_centered_bias)\n\u001b[0m\u001b[0;32m   1086\u001b[0m \u001b[1;33m\u001b[0m\u001b[0m\n\u001b[0;32m   1087\u001b[0m   \u001b[1;32mdef\u001b[0m \u001b[0m_transform_labels\u001b[0m\u001b[1;33m(\u001b[0m\u001b[0mself\u001b[0m\u001b[1;33m,\u001b[0m \u001b[0mmode\u001b[0m\u001b[1;33m,\u001b[0m \u001b[0mlabels\u001b[0m\u001b[1;33m)\u001b[0m\u001b[1;33m:\u001b[0m\u001b[1;33m\u001b[0m\u001b[0m\n",
      "\u001b[1;32m~\\AppData\\Local\\Continuum\\anaconda3\\lib\\site-packages\\tensorflow\\contrib\\learn\\python\\learn\\estimators\\head.py\u001b[0m in \u001b[0;36m_create_model_fn_ops\u001b[1;34m(features, mode, loss_fn, logits_to_predictions_fn, metrics_fn, create_output_alternatives_fn, labels, train_op_fn, logits, logits_dimension, head_name, weight_column_name, enable_centered_bias)\u001b[0m\n\u001b[0;32m    655\u001b[0m   \u001b[1;32mif\u001b[0m \u001b[1;33m(\u001b[0m\u001b[0mmode\u001b[0m \u001b[1;33m!=\u001b[0m \u001b[0mmodel_fn\u001b[0m\u001b[1;33m.\u001b[0m\u001b[0mModeKeys\u001b[0m\u001b[1;33m.\u001b[0m\u001b[0mINFER\u001b[0m\u001b[1;33m)\u001b[0m \u001b[1;32mand\u001b[0m \u001b[1;33m(\u001b[0m\u001b[0mlabels\u001b[0m \u001b[1;32mis\u001b[0m \u001b[1;32mnot\u001b[0m \u001b[1;32mNone\u001b[0m\u001b[1;33m)\u001b[0m\u001b[1;33m:\u001b[0m\u001b[1;33m\u001b[0m\u001b[0m\n\u001b[0;32m    656\u001b[0m     \u001b[0mweight_tensor\u001b[0m \u001b[1;33m=\u001b[0m \u001b[0m_weight_tensor\u001b[0m\u001b[1;33m(\u001b[0m\u001b[0mfeatures\u001b[0m\u001b[1;33m,\u001b[0m \u001b[0mweight_column_name\u001b[0m\u001b[1;33m)\u001b[0m\u001b[1;33m\u001b[0m\u001b[0m\n\u001b[1;32m--> 657\u001b[1;33m     \u001b[0mloss\u001b[0m\u001b[1;33m,\u001b[0m \u001b[0mweighted_average_loss\u001b[0m \u001b[1;33m=\u001b[0m \u001b[0mloss_fn\u001b[0m\u001b[1;33m(\u001b[0m\u001b[0mlabels\u001b[0m\u001b[1;33m,\u001b[0m \u001b[0mlogits\u001b[0m\u001b[1;33m,\u001b[0m \u001b[0mweight_tensor\u001b[0m\u001b[1;33m)\u001b[0m\u001b[1;33m\u001b[0m\u001b[0m\n\u001b[0m\u001b[0;32m    658\u001b[0m     \u001b[1;31m# The name_scope escapism is needed to maintain the same summary tag\u001b[0m\u001b[1;33m\u001b[0m\u001b[1;33m\u001b[0m\u001b[0m\n\u001b[0;32m    659\u001b[0m     \u001b[1;31m# after switching away from the now unsupported API.\u001b[0m\u001b[1;33m\u001b[0m\u001b[1;33m\u001b[0m\u001b[0m\n",
      "\u001b[1;32m~\\AppData\\Local\\Continuum\\anaconda3\\lib\\site-packages\\tensorflow\\contrib\\learn\\python\\learn\\estimators\\head.py\u001b[0m in \u001b[0;36m_wrapped_loss_fn\u001b[1;34m(self, labels, logits, weights)\u001b[0m\n\u001b[0;32m   1112\u001b[0m \u001b[1;33m\u001b[0m\u001b[0m\n\u001b[0;32m   1113\u001b[0m   \u001b[1;32mdef\u001b[0m \u001b[0m_wrapped_loss_fn\u001b[0m\u001b[1;33m(\u001b[0m\u001b[0mself\u001b[0m\u001b[1;33m,\u001b[0m \u001b[0mlabels\u001b[0m\u001b[1;33m,\u001b[0m \u001b[0mlogits\u001b[0m\u001b[1;33m,\u001b[0m \u001b[0mweights\u001b[0m\u001b[1;33m=\u001b[0m\u001b[1;32mNone\u001b[0m\u001b[1;33m)\u001b[0m\u001b[1;33m:\u001b[0m\u001b[1;33m\u001b[0m\u001b[0m\n\u001b[1;32m-> 1114\u001b[1;33m     \u001b[1;32mreturn\u001b[0m \u001b[0mself\u001b[0m\u001b[1;33m.\u001b[0m\u001b[0m_loss_fn\u001b[0m\u001b[1;33m(\u001b[0m\u001b[0mself\u001b[0m\u001b[1;33m.\u001b[0m\u001b[0m_label_ids\u001b[0m\u001b[1;33m(\u001b[0m\u001b[0mlabels\u001b[0m\u001b[1;33m)\u001b[0m\u001b[1;33m,\u001b[0m \u001b[0mlogits\u001b[0m\u001b[1;33m,\u001b[0m \u001b[0mweights\u001b[0m\u001b[1;33m=\u001b[0m\u001b[0mweights\u001b[0m\u001b[1;33m)\u001b[0m\u001b[1;33m\u001b[0m\u001b[0m\n\u001b[0m\u001b[0;32m   1115\u001b[0m \u001b[1;33m\u001b[0m\u001b[0m\n\u001b[0;32m   1116\u001b[0m   \u001b[1;32mdef\u001b[0m \u001b[0m_logits_to_predictions\u001b[0m\u001b[1;33m(\u001b[0m\u001b[0mself\u001b[0m\u001b[1;33m,\u001b[0m \u001b[0mlogits\u001b[0m\u001b[1;33m)\u001b[0m\u001b[1;33m:\u001b[0m\u001b[1;33m\u001b[0m\u001b[0m\n",
      "\u001b[1;32m~\\AppData\\Local\\Continuum\\anaconda3\\lib\\site-packages\\tensorflow\\contrib\\learn\\python\\learn\\estimators\\head.py\u001b[0m in \u001b[0;36m_softmax_cross_entropy_loss\u001b[1;34m(labels, logits, weights)\u001b[0m\n\u001b[0;32m    969\u001b[0m     \u001b[1;32mif\u001b[0m \u001b[1;32mnot\u001b[0m \u001b[0mlabels\u001b[0m\u001b[1;33m.\u001b[0m\u001b[0mdtype\u001b[0m\u001b[1;33m.\u001b[0m\u001b[0mis_integer\u001b[0m\u001b[1;33m:\u001b[0m\u001b[1;33m\u001b[0m\u001b[0m\n\u001b[0;32m    970\u001b[0m       raise ValueError(\"Labels dtype should be integer \"\n\u001b[1;32m--> 971\u001b[1;33m                        \"Instead got %s.\" % labels.dtype)\n\u001b[0m\u001b[0;32m    972\u001b[0m \u001b[1;33m\u001b[0m\u001b[0m\n\u001b[0;32m    973\u001b[0m     \u001b[1;31m# sparse_softmax_cross_entropy_with_logits requires [batch_size] labels.\u001b[0m\u001b[1;33m\u001b[0m\u001b[1;33m\u001b[0m\u001b[0m\n",
      "\u001b[1;31mValueError\u001b[0m: Labels dtype should be integer Instead got <dtype: 'string'>."
     ]
    }
   ],
   "source": [
    "feature_columns = [tf.contrib.layers.real_valued_column(\"\", dimension=4)]\n",
    "pipeline = Pipeline([\n",
    "('bow', CountVectorizer()),\n",
    "    ('tfidf', TfidfTransformer()), \n",
    "#     ('classifier', RandomForestClassifier(n_estimators=100,verbose=1,n_jobs=-1)),  \n",
    "    ('classifier', DNNClassifier(feature_columns=feature_columns,hidden_units=[25443000,20,10], n_classes=246)),\n",
    "])\n",
    "\n",
    "msg_train, msg_test, label_train, label_test = \\\n",
    "train_test_split(extracted['newText'], extracted['label_name'], test_size=0.2)\n",
    "\n",
    "\n",
    "%time pipeline.fit(msg_train,label_train)"
   ]
  },
  {
   "cell_type": "code",
   "execution_count": 59,
   "metadata": {},
   "outputs": [
    {
     "name": "stderr",
     "output_type": "stream",
     "text": [
      "[Parallel(n_jobs=4)]: Done  42 tasks      | elapsed:    1.1s\n",
      "[Parallel(n_jobs=4)]: Done 100 out of 100 | elapsed:    1.8s finished\n"
     ]
    }
   ],
   "source": [
    "\n",
    "predictions = pipeline.predict(msg_test)"
   ]
  },
  {
   "cell_type": "code",
   "execution_count": 29,
   "metadata": {},
   "outputs": [],
   "source": []
  },
  {
   "cell_type": "code",
   "execution_count": 8,
   "metadata": {},
   "outputs": [
    {
     "ename": "NameError",
     "evalue": "name 'predictions' is not defined",
     "output_type": "error",
     "traceback": [
      "\u001b[1;31m---------------------------------------------------------------------------\u001b[0m",
      "\u001b[1;31mNameError\u001b[0m                                 Traceback (most recent call last)",
      "\u001b[1;32m<ipython-input-8-287253db7103>\u001b[0m in \u001b[0;36m<module>\u001b[1;34m()\u001b[0m\n\u001b[1;32m----> 1\u001b[1;33m \u001b[0mprint\u001b[0m \u001b[1;33m(\u001b[0m\u001b[0mclassification_report\u001b[0m\u001b[1;33m(\u001b[0m\u001b[0mpredictions\u001b[0m\u001b[1;33m,\u001b[0m \u001b[0mlabel_test\u001b[0m\u001b[1;33m)\u001b[0m\u001b[1;33m)\u001b[0m\u001b[1;33m\u001b[0m\u001b[0m\n\u001b[0m",
      "\u001b[1;31mNameError\u001b[0m: name 'predictions' is not defined"
     ]
    }
   ],
   "source": [
    "print (classification_report(predictions, label_test))"
   ]
  },
  {
   "cell_type": "code",
   "execution_count": 61,
   "metadata": {},
   "outputs": [
    {
     "data": {
      "text/plain": [
       "0.7582141172771577"
      ]
     },
     "execution_count": 61,
     "metadata": {},
     "output_type": "execute_result"
    }
   ],
   "source": [
    "accuracy_score(label_test, predictions)"
   ]
  },
  {
   "cell_type": "code",
   "execution_count": 27,
   "metadata": {},
   "outputs": [],
   "source": [
    "df = extracted.copy()"
   ]
  },
  {
   "cell_type": "code",
   "execution_count": 24,
   "metadata": {},
   "outputs": [],
   "source": [
    "docs=extracted['newText'][2]"
   ]
  },
  {
   "cell_type": "code",
   "execution_count": 28,
   "metadata": {},
   "outputs": [
    {
     "name": "stdout",
     "output_type": "stream",
     "text": [
      "Wall time: 1min 49s\n"
     ]
    }
   ],
   "source": [
    "w_tokenizer = nltk.tokenize.WhitespaceTokenizer()\n",
    "lemmatizer = nltk.stem.WordNetLemmatizer()\n",
    "\n",
    "def lemmatize_text(text):\n",
    "    return [lemmatizer.lemmatize(w) for w in w_tokenizer.tokenize(text)]\n",
    "\n",
    "%time extracted['newText'] = extracted.apply(lambda x: lemmatize_text(x['newText']), axis = 1)\n"
   ]
  },
  {
   "cell_type": "code",
   "execution_count": 32,
   "metadata": {},
   "outputs": [
    {
     "name": "stdout",
     "output_type": "stream",
     "text": [
      "Wall time: 25.2 s\n"
     ]
    }
   ],
   "source": [
    "%time extracted['newText'] = extracted.apply(lambda x: \" \".join(x[\"newText\"]), axis = 1)"
   ]
  }
 ],
 "metadata": {
  "kernelspec": {
   "display_name": "Python 3",
   "language": "python",
   "name": "python3"
  },
  "language_info": {
   "codemirror_mode": {
    "name": "ipython",
    "version": 3
   },
   "file_extension": ".py",
   "mimetype": "text/x-python",
   "name": "python",
   "nbconvert_exporter": "python",
   "pygments_lexer": "ipython3",
   "version": "3.6.5"
  }
 },
 "nbformat": 4,
 "nbformat_minor": 2
}
